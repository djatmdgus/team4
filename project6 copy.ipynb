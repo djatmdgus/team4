{
 "cells": [
  {
   "cell_type": "code",
   "execution_count": 1,
   "metadata": {},
   "outputs": [],
   "source": [
    "import pandas as pd\n",
    "from konlpy.tag import Okt\n",
    "from konlpy.tag import Kkma\n",
    "from gensim import models\n",
    "import numpy as np\n",
    "from collections import Counter\n",
    "\n",
    "import matplotlib.pyplot as plt\n",
    "import seaborn as sns\n",
    "\n",
    "from gensim.models import KeyedVectors\n",
    "\n",
    "from tensorflow.keras.models import Sequential, Model\n",
    "from tensorflow.keras.layers import LSTM, Embedding, Dense, Bidirectional, Dropout, Flatten, SimpleRNN, BatchNormalization\n",
    "from tensorflow.keras import regularizers"
   ]
  },
  {
   "cell_type": "code",
   "execution_count": 2,
   "metadata": {},
   "outputs": [],
   "source": [
    "file = '/Users/um_seun/project6/한국어_단발성_대화_데이터셋.xlsx'\n",
    "\n",
    "df = pd.read_excel(file)\n"
   ]
  },
  {
   "cell_type": "code",
   "execution_count": 3,
   "metadata": {},
   "outputs": [
    {
     "data": {
      "text/html": [
       "<div>\n",
       "<style scoped>\n",
       "    .dataframe tbody tr th:only-of-type {\n",
       "        vertical-align: middle;\n",
       "    }\n",
       "\n",
       "    .dataframe tbody tr th {\n",
       "        vertical-align: top;\n",
       "    }\n",
       "\n",
       "    .dataframe thead th {\n",
       "        text-align: right;\n",
       "    }\n",
       "</style>\n",
       "<table border=\"1\" class=\"dataframe\">\n",
       "  <thead>\n",
       "    <tr style=\"text-align: right;\">\n",
       "      <th></th>\n",
       "      <th>Sentence</th>\n",
       "      <th>Emotion</th>\n",
       "      <th>Unnamed: 2</th>\n",
       "      <th>Unnamed: 3</th>\n",
       "      <th>Unnamed: 4</th>\n",
       "      <th>공포</th>\n",
       "      <th>5468</th>\n",
       "    </tr>\n",
       "  </thead>\n",
       "  <tbody>\n",
       "    <tr>\n",
       "      <th>0</th>\n",
       "      <td>언니 동생으로 부르는게 맞는 일인가요..??</td>\n",
       "      <td>공포</td>\n",
       "      <td>NaN</td>\n",
       "      <td>NaN</td>\n",
       "      <td>NaN</td>\n",
       "      <td>놀람</td>\n",
       "      <td>5898.0</td>\n",
       "    </tr>\n",
       "    <tr>\n",
       "      <th>1</th>\n",
       "      <td>그냥 내 느낌일뿐겠지?</td>\n",
       "      <td>공포</td>\n",
       "      <td>NaN</td>\n",
       "      <td>NaN</td>\n",
       "      <td>NaN</td>\n",
       "      <td>분노</td>\n",
       "      <td>5665.0</td>\n",
       "    </tr>\n",
       "    <tr>\n",
       "      <th>2</th>\n",
       "      <td>아직너무초기라서 그런거죠?</td>\n",
       "      <td>공포</td>\n",
       "      <td>NaN</td>\n",
       "      <td>NaN</td>\n",
       "      <td>NaN</td>\n",
       "      <td>슬픔</td>\n",
       "      <td>5267.0</td>\n",
       "    </tr>\n",
       "    <tr>\n",
       "      <th>3</th>\n",
       "      <td>유치원버스 사고 낫다던데</td>\n",
       "      <td>공포</td>\n",
       "      <td>NaN</td>\n",
       "      <td>NaN</td>\n",
       "      <td>NaN</td>\n",
       "      <td>중립</td>\n",
       "      <td>4830.0</td>\n",
       "    </tr>\n",
       "    <tr>\n",
       "      <th>4</th>\n",
       "      <td>근데 원래이런거맞나요</td>\n",
       "      <td>공포</td>\n",
       "      <td>NaN</td>\n",
       "      <td>NaN</td>\n",
       "      <td>NaN</td>\n",
       "      <td>행복</td>\n",
       "      <td>6037.0</td>\n",
       "    </tr>\n",
       "  </tbody>\n",
       "</table>\n",
       "</div>"
      ],
      "text/plain": [
       "                   Sentence Emotion  Unnamed: 2  Unnamed: 3  Unnamed: 4  공포  \\\n",
       "0  언니 동생으로 부르는게 맞는 일인가요..??      공포         NaN         NaN         NaN  놀람   \n",
       "1              그냥 내 느낌일뿐겠지?      공포         NaN         NaN         NaN  분노   \n",
       "2            아직너무초기라서 그런거죠?      공포         NaN         NaN         NaN  슬픔   \n",
       "3             유치원버스 사고 낫다던데      공포         NaN         NaN         NaN  중립   \n",
       "4               근데 원래이런거맞나요      공포         NaN         NaN         NaN  행복   \n",
       "\n",
       "     5468  \n",
       "0  5898.0  \n",
       "1  5665.0  \n",
       "2  5267.0  \n",
       "3  4830.0  \n",
       "4  6037.0  "
      ]
     },
     "execution_count": 3,
     "metadata": {},
     "output_type": "execute_result"
    }
   ],
   "source": [
    "df.head(5)"
   ]
  },
  {
   "cell_type": "code",
   "execution_count": 4,
   "metadata": {},
   "outputs": [
    {
     "name": "stdout",
     "output_type": "stream",
     "text": [
      "<class 'pandas.core.frame.DataFrame'>\n",
      "RangeIndex: 38594 entries, 0 to 38593\n",
      "Data columns (total 7 columns):\n",
      " #   Column      Non-Null Count  Dtype  \n",
      "---  ------      --------------  -----  \n",
      " 0   Sentence    38594 non-null  object \n",
      " 1   Emotion     38594 non-null  object \n",
      " 2   Unnamed: 2  0 non-null      float64\n",
      " 3   Unnamed: 3  0 non-null      float64\n",
      " 4   Unnamed: 4  0 non-null      float64\n",
      " 5   공포          7 non-null      object \n",
      " 6   5468        7 non-null      float64\n",
      "dtypes: float64(4), object(3)\n",
      "memory usage: 2.1+ MB\n",
      "None\n"
     ]
    }
   ],
   "source": [
    "print(df.info())\n"
   ]
  },
  {
   "cell_type": "code",
   "execution_count": 5,
   "metadata": {},
   "outputs": [
    {
     "name": "stdout",
     "output_type": "stream",
     "text": [
      "행복    0.156423\n",
      "놀람    0.152822\n",
      "분노    0.146784\n",
      "공포    0.141680\n",
      "혐오    0.140670\n",
      "슬픔    0.136472\n",
      "중립    0.125149\n",
      "Name: Emotion, dtype: float64\n"
     ]
    }
   ],
   "source": [
    "print(df['Emotion'].value_counts(normalize=True))\n"
   ]
  },
  {
   "cell_type": "code",
   "execution_count": 6,
   "metadata": {},
   "outputs": [
    {
     "name": "stdout",
     "output_type": "stream",
     "text": [
      "<class 'pandas.core.frame.DataFrame'>\n",
      "RangeIndex: 38594 entries, 0 to 38593\n",
      "Data columns (total 2 columns):\n",
      " #   Column    Non-Null Count  Dtype \n",
      "---  ------    --------------  ----- \n",
      " 0   Sentence  38594 non-null  object\n",
      " 1   Emotion   38594 non-null  object\n",
      "dtypes: object(2)\n",
      "memory usage: 603.2+ KB\n",
      "None\n"
     ]
    }
   ],
   "source": [
    "df = df[['Sentence','Emotion']]\n",
    "\n",
    "\n",
    "df.dropna(axis=0,inplace = True)\n",
    "\n",
    "\n",
    "print(df.info())\n"
   ]
  },
  {
   "cell_type": "code",
   "execution_count": 7,
   "metadata": {},
   "outputs": [
    {
     "name": "stdout",
     "output_type": "stream",
     "text": [
      "['공포' '놀람' '분노' '슬픔' '중립' '행복' '혐오']\n"
     ]
    }
   ],
   "source": [
    "print(df['Emotion'].unique())    \n"
   ]
  },
  {
   "cell_type": "code",
   "execution_count": 8,
   "metadata": {},
   "outputs": [],
   "source": [
    "def lav(x):\n",
    "    if x == '공포':\n",
    "        return int(0)\n",
    "    if x == '놀람':\n",
    "        return int(1)\n",
    "    if x == '분노':\n",
    "        return int(2)\n",
    "    if x == '슬픔':\n",
    "        return int(3)\n",
    "    if x == '중립':\n",
    "        return int(4)\n",
    "    if x == '행복':\n",
    "        return int(5)\n",
    "    if x == '혐오':\n",
    "        return int(6)\n",
    "\n",
    "\n",
    "\n",
    "df['Emotion'] = df['Emotion'].apply(lav)\n"
   ]
  },
  {
   "cell_type": "code",
   "execution_count": 9,
   "metadata": {},
   "outputs": [
    {
     "name": "stdout",
     "output_type": "stream",
     "text": [
      "[0 1 2 3 4 5 6]\n"
     ]
    }
   ],
   "source": [
    "print(df['Emotion'].unique())"
   ]
  },
  {
   "cell_type": "code",
   "execution_count": 10,
   "metadata": {},
   "outputs": [],
   "source": [
    "import re\n",
    "\n",
    "def emoticon_del(data):\n",
    "    #이모티콘 제거\n",
    "    emoji_pattern = re.compile(\"[\"\n",
    "        u\"\\U0001F600-\\U0001F64F\"  # emoticons\n",
    "        u\"\\U0001F300-\\U0001F5FF\"  # symbols & pictographs\n",
    "        u\"\\U0001F680-\\U0001F6FF\"  # transport & map symbols\n",
    "        u\"\\U0001F1E0-\\U0001F1FF\"  # flags (iOS)\n",
    "                           \"]+\", flags=re.UNICODE)\n",
    "    #분석에 어긋나는 불용어구 제외 (특수문자, 의성어)\n",
    "    han = re.compile(r'[ㄱ-ㅎㅏ-ㅣ!?~,\"a-zA-z0-9:.\\n\\r#\\ufeff\\u200d]')\n",
    "\n",
    "    comment_list = []\n",
    "    for i in range(len(data)):\n",
    "        comment_list.append(data['Sentence'].iloc[i])\n",
    "\n",
    "    comment_result = []\n",
    "    for i in comment_list:\n",
    "        tokens = re.sub(emoji_pattern,\"\",str(i))\n",
    "        tokens = re.sub(han,\"\",tokens)\n",
    "        comment_result.append(tokens)\n",
    "    comment_result = pd.DataFrame(comment_result, columns=[\"Sentence\"])\n",
    "    data['Sentence'] = comment_result \n",
    "\n",
    "    return data"
   ]
  },
  {
   "cell_type": "code",
   "execution_count": 11,
   "metadata": {},
   "outputs": [],
   "source": [
    "data = emoticon_del(df)"
   ]
  },
  {
   "cell_type": "code",
   "execution_count": 12,
   "metadata": {},
   "outputs": [
    {
     "data": {
      "text/html": [
       "<div>\n",
       "<style scoped>\n",
       "    .dataframe tbody tr th:only-of-type {\n",
       "        vertical-align: middle;\n",
       "    }\n",
       "\n",
       "    .dataframe tbody tr th {\n",
       "        vertical-align: top;\n",
       "    }\n",
       "\n",
       "    .dataframe thead th {\n",
       "        text-align: right;\n",
       "    }\n",
       "</style>\n",
       "<table border=\"1\" class=\"dataframe\">\n",
       "  <thead>\n",
       "    <tr style=\"text-align: right;\">\n",
       "      <th></th>\n",
       "      <th>Sentence</th>\n",
       "      <th>Emotion</th>\n",
       "    </tr>\n",
       "  </thead>\n",
       "  <tbody>\n",
       "    <tr>\n",
       "      <th>0</th>\n",
       "      <td>언니 동생으로 부르는게 맞는 일인가요</td>\n",
       "      <td>0</td>\n",
       "    </tr>\n",
       "    <tr>\n",
       "      <th>1</th>\n",
       "      <td>그냥 내 느낌일뿐겠지</td>\n",
       "      <td>0</td>\n",
       "    </tr>\n",
       "    <tr>\n",
       "      <th>2</th>\n",
       "      <td>아직너무초기라서 그런거죠</td>\n",
       "      <td>0</td>\n",
       "    </tr>\n",
       "    <tr>\n",
       "      <th>3</th>\n",
       "      <td>유치원버스 사고 낫다던데</td>\n",
       "      <td>0</td>\n",
       "    </tr>\n",
       "    <tr>\n",
       "      <th>4</th>\n",
       "      <td>근데 원래이런거맞나요</td>\n",
       "      <td>0</td>\n",
       "    </tr>\n",
       "    <tr>\n",
       "      <th>...</th>\n",
       "      <td>...</td>\n",
       "      <td>...</td>\n",
       "    </tr>\n",
       "    <tr>\n",
       "      <th>38589</th>\n",
       "      <td>솔직히 예보 제대로 못하는 데 세금이라도 아끼게 그냥 폐지해라</td>\n",
       "      <td>6</td>\n",
       "    </tr>\n",
       "    <tr>\n",
       "      <th>38590</th>\n",
       "      <td>재미가 없으니 망하지</td>\n",
       "      <td>6</td>\n",
       "    </tr>\n",
       "    <tr>\n",
       "      <th>38591</th>\n",
       "      <td>공장 도시락 비우생적임 아르바이트했는데 화장실가성 손도 않씯고 재료 담고 바닥 떨어...</td>\n",
       "      <td>6</td>\n",
       "    </tr>\n",
       "    <tr>\n",
       "      <th>38592</th>\n",
       "      <td>코딱지 만한 나라에서 지들끼리 피터지게 싸우는 센징 클래스</td>\n",
       "      <td>6</td>\n",
       "    </tr>\n",
       "    <tr>\n",
       "      <th>38593</th>\n",
       "      <td>와이프도 그렇고 댓글 다 볼텐데 이휘재 좀 하차 하라고 전해주세요</td>\n",
       "      <td>6</td>\n",
       "    </tr>\n",
       "  </tbody>\n",
       "</table>\n",
       "<p>38594 rows × 2 columns</p>\n",
       "</div>"
      ],
      "text/plain": [
       "                                                Sentence  Emotion\n",
       "0                                   언니 동생으로 부르는게 맞는 일인가요        0\n",
       "1                                            그냥 내 느낌일뿐겠지        0\n",
       "2                                          아직너무초기라서 그런거죠        0\n",
       "3                                          유치원버스 사고 낫다던데        0\n",
       "4                                            근데 원래이런거맞나요        0\n",
       "...                                                  ...      ...\n",
       "38589                 솔직히 예보 제대로 못하는 데 세금이라도 아끼게 그냥 폐지해라        6\n",
       "38590                                        재미가 없으니 망하지        6\n",
       "38591  공장 도시락 비우생적임 아르바이트했는데 화장실가성 손도 않씯고 재료 담고 바닥 떨어...        6\n",
       "38592                  코딱지 만한 나라에서 지들끼리 피터지게 싸우는 센징 클래스         6\n",
       "38593               와이프도 그렇고 댓글 다 볼텐데 이휘재 좀 하차 하라고 전해주세요        6\n",
       "\n",
       "[38594 rows x 2 columns]"
      ]
     },
     "execution_count": 12,
     "metadata": {},
     "output_type": "execute_result"
    }
   ],
   "source": [
    "data"
   ]
  },
  {
   "cell_type": "code",
   "execution_count": 13,
   "metadata": {},
   "outputs": [],
   "source": [
    "from konlpy.tag import Mecab\n",
    "from konlpy.tag import Okt\n",
    "def tokenizer(data):\n",
    "    # 불용어(포함 안 시킬 단어) 처리 \n",
    "    stopwords = ['도', '는', '다', '의', '가', '이', '은', '한', '에', '하', '고', '을', '를', '인', '듯', '과', '와', '네', '들', '듯', '지', '임', '게', '만', '되', '음', '면','있','거','나','는데','!', '.', ',', '~', '?', 'ㅡ', 'ㅠ', 'ㅜ','/', ' '] \n",
    "           \n",
    "    mecab = Mecab()\n",
    "    \n",
    "    data['tokenized'] = data['Sentence'].apply(mecab.morphs)\n",
    "    data['tokenized'] = data['tokenized'].apply(lambda x: [item for item in x if item not in stopwords])\n",
    "    \n",
    "    \n"
   ]
  },
  {
   "cell_type": "code",
   "execution_count": 14,
   "metadata": {},
   "outputs": [],
   "source": [
    "tokenizer(data)"
   ]
  },
  {
   "cell_type": "code",
   "execution_count": 15,
   "metadata": {},
   "outputs": [
    {
     "data": {
      "text/html": [
       "<div>\n",
       "<style scoped>\n",
       "    .dataframe tbody tr th:only-of-type {\n",
       "        vertical-align: middle;\n",
       "    }\n",
       "\n",
       "    .dataframe tbody tr th {\n",
       "        vertical-align: top;\n",
       "    }\n",
       "\n",
       "    .dataframe thead th {\n",
       "        text-align: right;\n",
       "    }\n",
       "</style>\n",
       "<table border=\"1\" class=\"dataframe\">\n",
       "  <thead>\n",
       "    <tr style=\"text-align: right;\">\n",
       "      <th></th>\n",
       "      <th>Sentence</th>\n",
       "      <th>Emotion</th>\n",
       "      <th>tokenized</th>\n",
       "    </tr>\n",
       "  </thead>\n",
       "  <tbody>\n",
       "    <tr>\n",
       "      <th>0</th>\n",
       "      <td>언니 동생으로 부르는게 맞는 일인가요</td>\n",
       "      <td>0</td>\n",
       "      <td>[언니, 동생, 으로, 부르, 맞, 일, 인가요]</td>\n",
       "    </tr>\n",
       "    <tr>\n",
       "      <th>1</th>\n",
       "      <td>그냥 내 느낌일뿐겠지</td>\n",
       "      <td>0</td>\n",
       "      <td>[그냥, 내, 느낌, 일, 뿐, 겠]</td>\n",
       "    </tr>\n",
       "    <tr>\n",
       "      <th>2</th>\n",
       "      <td>아직너무초기라서 그런거죠</td>\n",
       "      <td>0</td>\n",
       "      <td>[아직, 너무, 초기, 라서, 그런, 죠]</td>\n",
       "    </tr>\n",
       "    <tr>\n",
       "      <th>3</th>\n",
       "      <td>유치원버스 사고 낫다던데</td>\n",
       "      <td>0</td>\n",
       "      <td>[유치원, 버스, 사고, 낫, 다던데]</td>\n",
       "    </tr>\n",
       "    <tr>\n",
       "      <th>4</th>\n",
       "      <td>근데 원래이런거맞나요</td>\n",
       "      <td>0</td>\n",
       "      <td>[근데, 원래, 이런, 맞, 나요]</td>\n",
       "    </tr>\n",
       "    <tr>\n",
       "      <th>...</th>\n",
       "      <td>...</td>\n",
       "      <td>...</td>\n",
       "      <td>...</td>\n",
       "    </tr>\n",
       "    <tr>\n",
       "      <th>38589</th>\n",
       "      <td>솔직히 예보 제대로 못하는 데 세금이라도 아끼게 그냥 폐지해라</td>\n",
       "      <td>6</td>\n",
       "      <td>[솔직히, 예보, 제대로, 못, 데, 세금, 라도, 아끼, 그냥, 폐지, 해라]</td>\n",
       "    </tr>\n",
       "    <tr>\n",
       "      <th>38590</th>\n",
       "      <td>재미가 없으니 망하지</td>\n",
       "      <td>6</td>\n",
       "      <td>[재미, 없, 으니, 망하]</td>\n",
       "    </tr>\n",
       "    <tr>\n",
       "      <th>38591</th>\n",
       "      <td>공장 도시락 비우생적임 아르바이트했는데 화장실가성 손도 않씯고 재료 담고 바닥 떨어...</td>\n",
       "      <td>6</td>\n",
       "      <td>[공장, 도시락, 비, 우생, 적, 아르바이트, 했, 화장실, 가성, 손, 않, 씯...</td>\n",
       "    </tr>\n",
       "    <tr>\n",
       "      <th>38592</th>\n",
       "      <td>코딱지 만한 나라에서 지들끼리 피터지게 싸우는 센징 클래스</td>\n",
       "      <td>6</td>\n",
       "      <td>[코딱지, 나라, 에서, 끼리, 피, 터지, 싸우, 센, 징, 클래스]</td>\n",
       "    </tr>\n",
       "    <tr>\n",
       "      <th>38593</th>\n",
       "      <td>와이프도 그렇고 댓글 다 볼텐데 이휘재 좀 하차 하라고 전해주세요</td>\n",
       "      <td>6</td>\n",
       "      <td>[와이프, 그렇, 댓글, 볼, 텐데, 이휘재, 좀, 하차, 라고, 전해, 주, 세요]</td>\n",
       "    </tr>\n",
       "  </tbody>\n",
       "</table>\n",
       "<p>38594 rows × 3 columns</p>\n",
       "</div>"
      ],
      "text/plain": [
       "                                                Sentence  Emotion  \\\n",
       "0                                   언니 동생으로 부르는게 맞는 일인가요        0   \n",
       "1                                            그냥 내 느낌일뿐겠지        0   \n",
       "2                                          아직너무초기라서 그런거죠        0   \n",
       "3                                          유치원버스 사고 낫다던데        0   \n",
       "4                                            근데 원래이런거맞나요        0   \n",
       "...                                                  ...      ...   \n",
       "38589                 솔직히 예보 제대로 못하는 데 세금이라도 아끼게 그냥 폐지해라        6   \n",
       "38590                                        재미가 없으니 망하지        6   \n",
       "38591  공장 도시락 비우생적임 아르바이트했는데 화장실가성 손도 않씯고 재료 담고 바닥 떨어...        6   \n",
       "38592                  코딱지 만한 나라에서 지들끼리 피터지게 싸우는 센징 클래스         6   \n",
       "38593               와이프도 그렇고 댓글 다 볼텐데 이휘재 좀 하차 하라고 전해주세요        6   \n",
       "\n",
       "                                               tokenized  \n",
       "0                            [언니, 동생, 으로, 부르, 맞, 일, 인가요]  \n",
       "1                                   [그냥, 내, 느낌, 일, 뿐, 겠]  \n",
       "2                                [아직, 너무, 초기, 라서, 그런, 죠]  \n",
       "3                                  [유치원, 버스, 사고, 낫, 다던데]  \n",
       "4                                    [근데, 원래, 이런, 맞, 나요]  \n",
       "...                                                  ...  \n",
       "38589       [솔직히, 예보, 제대로, 못, 데, 세금, 라도, 아끼, 그냥, 폐지, 해라]  \n",
       "38590                                    [재미, 없, 으니, 망하]  \n",
       "38591  [공장, 도시락, 비, 우생, 적, 아르바이트, 했, 화장실, 가성, 손, 않, 씯...  \n",
       "38592            [코딱지, 나라, 에서, 끼리, 피, 터지, 싸우, 센, 징, 클래스]  \n",
       "38593    [와이프, 그렇, 댓글, 볼, 텐데, 이휘재, 좀, 하차, 라고, 전해, 주, 세요]  \n",
       "\n",
       "[38594 rows x 3 columns]"
      ]
     },
     "execution_count": 15,
     "metadata": {},
     "output_type": "execute_result"
    }
   ],
   "source": [
    "data"
   ]
  },
  {
   "cell_type": "code",
   "execution_count": 16,
   "metadata": {},
   "outputs": [],
   "source": [
    "#def more_than_one(comment):\n",
    "#    comment = [n for n in comment if len(n) > 1]       #단어 길이 1 이하 제거\n",
    "#    return comment\n",
    "#data['tokenized2'] = data['tokenized'].apply(more_than_one)"
   ]
  },
  {
   "cell_type": "code",
   "execution_count": 17,
   "metadata": {},
   "outputs": [],
   "source": [
    "from sklearn.model_selection import train_test_split"
   ]
  },
  {
   "cell_type": "code",
   "execution_count": 18,
   "metadata": {},
   "outputs": [],
   "source": [
    "x_train, x_test = train_test_split(data[['tokenized','Emotion']], test_size=0.20, stratify=data['Emotion'], random_state=33)"
   ]
  },
  {
   "cell_type": "code",
   "execution_count": 19,
   "metadata": {},
   "outputs": [],
   "source": [
    "# 각 감정별 많이 등장한 단어\n",
    "fear_words = np.hstack(data[data.Emotion == 0]['tokenized'].values)\n",
    "Surprised_words = np.hstack(data[data.Emotion == 1]['tokenized'].values)\n",
    "Anger_words = np.hstack(data[data.Emotion == 2]['tokenized'].values)\n",
    "Sadness_words = np.hstack(data[data.Emotion == 3]['tokenized'].values)\n",
    "neutrality_words = np.hstack(data[data.Emotion == 4]['tokenized'].values)\n",
    "Happiness_words = np.hstack(data[data.Emotion == 5]['tokenized'].values)\n",
    "Disgust_words = np.hstack(data[data.Emotion == 6]['tokenized'].values)"
   ]
  },
  {
   "cell_type": "code",
   "execution_count": 20,
   "metadata": {},
   "outputs": [],
   "source": [
    "def counters(words): \n",
    "    emotion_words = Counter(words)\n",
    "    print('TOP_10',emotion_words.most_common(10))"
   ]
  },
  {
   "cell_type": "code",
   "execution_count": 21,
   "metadata": {},
   "outputs": [
    {
     "name": "stdout",
     "output_type": "stream",
     "text": [
      "TOP_10 [('안', 490), ('겠', 392), ('네요', 347), ('같', 326), ('없', 294), ('보', 287), ('해야', 284), ('아', 260), ('어', 255), ('어떻게', 251)]\n",
      "TOP_10 [('보', 312), ('진짜', 301), ('안', 297), ('아니', 271), ('냐', 269), ('어', 269), ('에서', 249), ('왜', 242), ('했', 240), ('었', 239)]\n",
      "TOP_10 [('냐', 492), ('아', 431), ('안', 373), ('라', 339), ('없', 320), ('으로', 296), ('나라', 288), ('로', 288), ('어', 279), ('말', 270)]\n",
      "TOP_10 [('네요', 568), ('안', 517), ('너무', 448), ('없', 403), ('겠', 351), ('보', 334), ('아', 323), ('어', 299), ('같', 297), ('어요', 278)]\n",
      "TOP_10 [('안', 321), ('겠', 281), ('없', 277), ('보', 240), ('으로', 238), ('로', 226), ('에서', 214), ('것', 210), ('같', 209), ('할', 188)]\n",
      "TOP_10 [('좋', 557), ('감사', 520), ('합니다', 507), ('잘', 431), ('보', 427), ('주', 402), ('님', 391), ('습니다', 379), ('해', 363), ('네요', 358)]\n",
      "TOP_10 [('안', 460), ('없', 397), ('아', 391), ('냐', 378), ('어', 322), ('겠', 304), ('말', 298), ('니', 289), ('으로', 271), ('로', 271)]\n"
     ]
    }
   ],
   "source": [
    "counters(fear_words)\n",
    "counters(Surprised_words)\n",
    "counters(Anger_words)\n",
    "counters(Sadness_words)\n",
    "counters(neutrality_words)\n",
    "counters(Happiness_words)\n",
    "counters(Disgust_words)"
   ]
  },
  {
   "cell_type": "code",
   "execution_count": 22,
   "metadata": {
    "scrolled": true
   },
   "outputs": [],
   "source": [
    "\n",
    "fear_words_len  = data[data.Emotion == 0]['tokenized'].map(lambda x: len(x))\n",
    "Surprised_words_len  = data[data.Emotion == 1]['tokenized'].map(lambda x: len(x))\n",
    "Anger_words_len  = data[data.Emotion == 2]['tokenized'].map(lambda x: len(x))\n",
    "Sadness_words_len  = data[data.Emotion == 3]['tokenized'].map(lambda x: len(x))\n",
    "neutrality_words_len  = data[data.Emotion == 4]['tokenized'].map(lambda x: len(x))\n",
    "Happiness_words_len  = data[data.Emotion == 5]['tokenized'].map(lambda x: len(x))\n",
    "Disgust_words_len  = data[data.Emotion == 6]['tokenized'].map(lambda x: len(x))\n"
   ]
  },
  {
   "cell_type": "code",
   "execution_count": 23,
   "metadata": {},
   "outputs": [
    {
     "name": "stdout",
     "output_type": "stream",
     "text": [
      "공포리뷰 평균 길이 7.7873079736649595\n",
      "놀람리뷰 평균 길이 6.770261105459478\n",
      "분노리뷰 평균 길이 8.286142983230361\n",
      "슬픔리뷰 평균 길이 7.827226124928802\n",
      "중립리뷰 평균 길이 7.8648033126294\n",
      "행복리뷰 평균 길이 7.430511843630942\n",
      "혐오리뷰 평균 길이 9.114754098360656\n"
     ]
    }
   ],
   "source": [
    "print('공포리뷰 평균 길이', np.mean(fear_words_len))\n",
    "print('놀람리뷰 평균 길이', np.mean(Surprised_words_len))\n",
    "print('분노리뷰 평균 길이', np.mean(Anger_words_len))\n",
    "print('슬픔리뷰 평균 길이', np.mean(Sadness_words_len))\n",
    "print('중립리뷰 평균 길이', np.mean(neutrality_words_len))\n",
    "print('행복리뷰 평균 길이', np.mean(Happiness_words_len))\n",
    "print('혐오리뷰 평균 길이', np.mean(Disgust_words_len))"
   ]
  },
  {
   "cell_type": "code",
   "execution_count": 24,
   "metadata": {},
   "outputs": [],
   "source": [
    "data['length'] = data['tokenized'].apply(lambda x: len(x))"
   ]
  },
  {
   "cell_type": "code",
   "execution_count": 25,
   "metadata": {
    "scrolled": true
   },
   "outputs": [
    {
     "name": "stderr",
     "output_type": "stream",
     "text": [
      "/Users/um_seun/miniforge3/envs/cp1/lib/python3.8/site-packages/seaborn/distributions.py:2619: FutureWarning: `distplot` is a deprecated function and will be removed in a future version. Please adapt your code to use either `displot` (a figure-level function with similar flexibility) or `histplot` (an axes-level function for histograms).\n",
      "  warnings.warn(msg, FutureWarning)\n"
     ]
    },
    {
     "data": {
      "image/png": "[encoded data removed]",
      "text/plain": [
       "<Figure size 432x288 with 1 Axes>"
      ]
     },
     "metadata": {
      "needs_background": "light"
     },
     "output_type": "display_data"
    },
    {
     "name": "stdout",
     "output_type": "stream",
     "text": [
      " 가장 긴 문장은 182 개의 단어, 가장 짧은 문장은 0 개의 단어\n"
     ]
    }
   ],
   "source": [
    "\n",
    "\n",
    "def plot_doc_lengths(datas):\n",
    "    mean_seq_len = np.round(datas.length.mean()).astype(int)\n",
    "    sns.distplot(tuple(datas.length), hist=True, kde=True, label='Document lengths')\n",
    "    plt.axvline(x=mean_seq_len, color='k', linestyle='--', label=f'Sequence length mean:{mean_seq_len}')\n",
    "    plt.title('Document lengths')\n",
    "    plt.legend()\n",
    "    plt.show()\n",
    "    print(f\" 가장 긴 문장은 {data['length'].max()} 개의 단어, 가장 짧은 문장은 {data['length'].min()} 개의 단어\")\n",
    "\n",
    "plot_doc_lengths(data)"
   ]
  },
  {
   "cell_type": "code",
   "execution_count": 26,
   "metadata": {},
   "outputs": [],
   "source": [
    "x_train_tokenized = x_train['tokenized']\n",
    "x_test_tokenized = x_test['tokenized']\n",
    "y_train = x_train['Emotion']\n",
    "y_test = x_test['Emotion']\n"
   ]
  },
  {
   "cell_type": "code",
   "execution_count": 27,
   "metadata": {},
   "outputs": [],
   "source": [
    "from tensorflow.keras.preprocessing.text import Tokenizer"
   ]
  },
  {
   "cell_type": "code",
   "execution_count": 28,
   "metadata": {
    "scrolled": true
   },
   "outputs": [
    {
     "name": "stdout",
     "output_type": "stream",
     "text": [
      "총단어 갯수 22764\n"
     ]
    },
    {
     "data": {
      "text/plain": [
       "{'<oov>': 1,\n",
       " '안': 2,\n",
       " '아': 3,\n",
       " '보': 4,\n",
       " '없': 5,\n",
       " '어': 6,\n",
       " '겠': 7,\n",
       " '같': 8,\n",
       " '으로': 9,\n",
       " '네요': 10,\n",
       " '로': 11,\n",
       " '것': 12,\n",
       " '해': 13,\n",
       " '에서': 14,\n",
       " '냐': 15,\n",
       " '말': 16,\n",
       " '진짜': 17,\n",
       " '좋': 18,\n",
       " '했': 19,\n",
       " '너무': 20,\n",
       " '주': 21,\n",
       " '기': 22,\n",
       " '할': 23,\n",
       " '잘': 24,\n",
       " '사람': 25,\n",
       " '아니': 26,\n",
       " '었': 27,\n",
       " '라': 28,\n",
       " '일': 29,\n",
       " '니': 30,\n",
       " '야': 31,\n",
       " '저': 32,\n",
       " '나라': 33,\n",
       " '못': 34,\n",
       " '수': 35,\n",
       " '왜': 36,\n",
       " '서': 37,\n",
       " '때': 38,\n",
       " '않': 39,\n",
       " '더': 40,\n",
       " '알': 41,\n",
       " '정말': 42,\n",
       " '받': 43,\n",
       " '내': 44,\n",
       " '어요': 45,\n",
       " '그': 46,\n",
       " '년': 47,\n",
       " '좀': 48,\n",
       " '시': 49,\n",
       " '뭐': 50,\n",
       " '합니다': 51,\n",
       " '싶': 52,\n",
       " '님': 53,\n",
       " '우리': 54,\n",
       " '았': 55,\n",
       " '습니다': 56,\n",
       " '까지': 57,\n",
       " '적': 58,\n",
       " '라고': 59,\n",
       " '먹': 60,\n",
       " '해서': 61,\n",
       " '생각': 62,\n",
       " '제': 63,\n",
       " '돈': 64,\n",
       " '이런': 65,\n",
       " '많': 66,\n",
       " '자': 67,\n",
       " '살': 68,\n",
       " '해야': 69,\n",
       " '인데': 70,\n",
       " '국민': 71,\n",
       " '지만': 72,\n",
       " '으면': 73,\n",
       " '지금': 74,\n",
       " '다고': 75,\n",
       " '건': 76,\n",
       " '개': 77,\n",
       " '요': 78,\n",
       " '어떻게': 79,\n",
       " '그냥': 80,\n",
       " '많이': 81,\n",
       " '죠': 82,\n",
       " '줄': 83,\n",
       " '나요': 84,\n",
       " '여자': 85,\n",
       " '한테': 86,\n",
       " '감사': 87,\n",
       " '이제': 88,\n",
       " '던': 89,\n",
       " '전': 90,\n",
       " '어서': 91,\n",
       " '데': 92,\n",
       " '오': 93,\n",
       " '부터': 94,\n",
       " '사': 95,\n",
       " '남자': 96,\n",
       " '보다': 97,\n",
       " '분': 98,\n",
       " '맞': 99,\n",
       " '근데': 100,\n",
       " '해라': 101,\n",
       " '쓰': 102,\n",
       " '모르': 103,\n",
       " '오늘': 104,\n",
       " '또': 105,\n",
       " '대': 106,\n",
       " '다는': 107,\n",
       " '대통령': 108,\n",
       " '랑': 109,\n",
       " '한다': 110,\n",
       " '넘': 111,\n",
       " '친구': 112,\n",
       " '세요': 113,\n",
       " '참': 114,\n",
       " '면서': 115,\n",
       " '한국': 116,\n",
       " '죽': 117,\n",
       " '번': 118,\n",
       " '기사': 119,\n",
       " '애': 120,\n",
       " '이나': 121,\n",
       " '놈': 122,\n",
       " '은데': 123,\n",
       " '나오': 124,\n",
       " '하나': 125,\n",
       " '중': 126,\n",
       " '다가': 127,\n",
       " '입니다': 128,\n",
       " '는지': 129,\n",
       " '아직': 130,\n",
       " '쓰레기': 131,\n",
       " '이렇게': 132,\n",
       " '일본': 133,\n",
       " '시간': 134,\n",
       " '해요': 135,\n",
       " '힘들': 136,\n",
       " '정도': 137,\n",
       " '박근혜': 138,\n",
       " '걸': 139,\n",
       " '에게': 140,\n",
       " '니까': 141,\n",
       " '걱정': 142,\n",
       " '남': 143,\n",
       " '두': 144,\n",
       " '중국': 145,\n",
       " '때문': 146,\n",
       " '선수': 147,\n",
       " '삼성': 148,\n",
       " '인간': 149,\n",
       " '실': 150,\n",
       " '다시': 151,\n",
       " '구나': 152,\n",
       " '라는': 153,\n",
       " '축하': 154,\n",
       " '난': 155,\n",
       " '해도': 156,\n",
       " '다른': 157,\n",
       " '달': 158,\n",
       " '였': 159,\n",
       " '날': 160,\n",
       " '함': 161,\n",
       " '너': 162,\n",
       " '다니': 163,\n",
       " '아서': 164,\n",
       " '어디': 165,\n",
       " '이상': 166,\n",
       " '무슨': 167,\n",
       " '원': 168,\n",
       " '고민': 169,\n",
       " '길': 170,\n",
       " '대단': 171,\n",
       " '인가': 172,\n",
       " '처럼': 173,\n",
       " '집': 174,\n",
       " '미국': 175,\n",
       " '만들': 176,\n",
       " '잡': 177,\n",
       " '저런': 178,\n",
       " '될': 179,\n",
       " '명': 180,\n",
       " '비': 181,\n",
       " '신': 182,\n",
       " '댓글': 183,\n",
       " '이게': 184,\n",
       " '을까요': 185,\n",
       " '봤': 186,\n",
       " '끝': 187,\n",
       " '차': 188,\n",
       " '긴': 189,\n",
       " '문제': 190,\n",
       " '앞': 191,\n",
       " '아요': 192,\n",
       " '그러': 193,\n",
       " '역시': 194,\n",
       " '여': 195,\n",
       " '오빠': 196,\n",
       " '마음': 197,\n",
       " '된': 198,\n",
       " '몇': 199,\n",
       " '이랑': 200,\n",
       " ';;': 201,\n",
       " '엔': 202,\n",
       " '싫': 203,\n",
       " '마': 204,\n",
       " '요즘': 205,\n",
       " '던데': 206,\n",
       " '글': 207,\n",
       " '치': 208,\n",
       " '법': 209,\n",
       " '항상': 210,\n",
       " '연기': 211,\n",
       " '대한민국': 212,\n",
       " '이거': 213,\n",
       " '그런': 214,\n",
       " '그리고': 215,\n",
       " '억': 216,\n",
       " '씨': 217,\n",
       " '얼굴': 218,\n",
       " '형': 219,\n",
       " '라도': 220,\n",
       " '최고': 221,\n",
       " '입': 222,\n",
       " '이번': 223,\n",
       " '구': 224,\n",
       " '바': 225,\n",
       " '그래도': 226,\n",
       " '성': 227,\n",
       " '계속': 228,\n",
       " '믿': 229,\n",
       " '그래서': 230,\n",
       " '새': 231,\n",
       " '얼마나': 232,\n",
       " '백': 233,\n",
       " '위': 234,\n",
       " '여기': 235,\n",
       " '을까': 236,\n",
       " '같이': 237,\n",
       " '눈': 238,\n",
       " '군': 239,\n",
       " '사랑': 240,\n",
       " '어야': 241,\n",
       " '닭': 242,\n",
       " '더라': 243,\n",
       " '탄핵': 244,\n",
       " '최순': 245,\n",
       " '응원': 246,\n",
       " '언제': 247,\n",
       " '박': 248,\n",
       " '무섭': 249,\n",
       " '된다': 250,\n",
       " '짓': 251,\n",
       " '연락': 252,\n",
       " '순': 253,\n",
       " '놓': 254,\n",
       " '소리': 255,\n",
       " '답': 256,\n",
       " '려고': 257,\n",
       " '잘못': 258,\n",
       " '보이': 259,\n",
       " '셨': 260,\n",
       " '화': 261,\n",
       " '버리': 262,\n",
       " '타': 263,\n",
       " '사진': 264,\n",
       " '팬': 265,\n",
       " '폰': 266,\n",
       " '어도': 267,\n",
       " '든': 268,\n",
       " '정신': 269,\n",
       " '더니': 270,\n",
       " '진심': 271,\n",
       " '욕': 272,\n",
       " '새끼': 273,\n",
       " '아님': 274,\n",
       " '시키': 275,\n",
       " '건가': 276,\n",
       " '그렇': 277,\n",
       " '트럼프': 278,\n",
       " '는구나': 279,\n",
       " '봐': 280,\n",
       " '쪽': 281,\n",
       " '모습': 282,\n",
       " '건가요': 283,\n",
       " '기자': 284,\n",
       " '요리': 285,\n",
       " '시작': 286,\n",
       " '처음': 287,\n",
       " '화이팅': 288,\n",
       " '머리': 289,\n",
       " '어떤': 290,\n",
       " '대박': 291,\n",
       " '국가': 292,\n",
       " '미안': 293,\n",
       " '질': 294,\n",
       " '자기': 295,\n",
       " '그렇게': 296,\n",
       " '꼭': 297,\n",
       " '아이': 298,\n",
       " '어제': 299,\n",
       " '완전': 300,\n",
       " '나가': 301,\n",
       " '가지': 302,\n",
       " '정부': 303,\n",
       " '수준': 304,\n",
       " '키': 305,\n",
       " '동안': 306,\n",
       " '뭘': 307,\n",
       " '겟': 308,\n",
       " '만나': 309,\n",
       " '뭔': 310,\n",
       " '볼': 311,\n",
       " '가요': 312,\n",
       " '결혼': 313,\n",
       " '기업': 314,\n",
       " '미친': 315,\n",
       " '회사': 316,\n",
       " '그럼': 317,\n",
       " '둘': 318,\n",
       " '보내': 319,\n",
       " '못하': 320,\n",
       " '꺼': 321,\n",
       " '쉽': 322,\n",
       " '인지': 323,\n",
       " '잇': 324,\n",
       " '이러': 325,\n",
       " '됐': 326,\n",
       " '팔': 327,\n",
       " '누가': 328,\n",
       " '뿐': 329,\n",
       " '곳': 330,\n",
       " '괜찮': 331,\n",
       " '가능': 332,\n",
       " '건지': 333,\n",
       " '헐': 334,\n",
       " '세계': 335,\n",
       " '드라마': 336,\n",
       " '쳐': 337,\n",
       " '스럽': 338,\n",
       " '할까요': 339,\n",
       " '큰': 340,\n",
       " '아닌가': 341,\n",
       " '란': 342,\n",
       " '며': 343,\n",
       " '물': 344,\n",
       " '특검': 345,\n",
       " '뽑': 346,\n",
       " '딱': 347,\n",
       " '혼자': 348,\n",
       " '부럽': 349,\n",
       " '막': 350,\n",
       " '없이': 351,\n",
       " '속': 352,\n",
       " '그네': 353,\n",
       " '인가요': 354,\n",
       " '세상': 355,\n",
       " '러': 356,\n",
       " '짱': 357,\n",
       " '에요': 358,\n",
       " '누구': 359,\n",
       " '배': 360,\n",
       " '다음': 361,\n",
       " '후': 362,\n",
       " '팀': 363,\n",
       " '당': 364,\n",
       " '찍': 365,\n",
       " '세금': 366,\n",
       " '갔': 367,\n",
       " '구만': 368,\n",
       " '하루': 369,\n",
       " '까': 370,\n",
       " '드': 371,\n",
       " '텐데': 372,\n",
       " '불안': 373,\n",
       " '라니': 374,\n",
       " '한데': 375,\n",
       " '빨리': 376,\n",
       " '모두': 377,\n",
       " '영화': 378,\n",
       " '갈': 379,\n",
       " '군대': 380,\n",
       " '엄청': 381,\n",
       " '울': 382,\n",
       " '헬': 383,\n",
       " '불': 384,\n",
       " '듣': 385,\n",
       " '얘기': 386,\n",
       " '감독': 387,\n",
       " '조선': 388,\n",
       " '크': 389,\n",
       " '이건': 390,\n",
       " '상': 391,\n",
       " '솔직히': 392,\n",
       " '필요': 393,\n",
       " '제발': 394,\n",
       " ';': 395,\n",
       " '아야': 396,\n",
       " '빼': 397,\n",
       " '노': 398,\n",
       " '사실': 399,\n",
       " '본': 400,\n",
       " '넣': 401,\n",
       " '누리': 402,\n",
       " '멋있': 403,\n",
       " '손': 404,\n",
       " '게임': 405,\n",
       " '바로': 406,\n",
       " '으니': 407,\n",
       " '이유': 408,\n",
       " '얼마': 409,\n",
       " '등': 410,\n",
       " '경찰': 411,\n",
       " '진': 412,\n",
       " '기대': 413,\n",
       " ')': 414,\n",
       " '할지': 415,\n",
       " '제대로': 416,\n",
       " '북한': 417,\n",
       " '모든': 418,\n",
       " '더라구요': 419,\n",
       " '한다고': 420,\n",
       " '고맙': 421,\n",
       " '운동': 422,\n",
       " '왔': 423,\n",
       " '셔서': 424,\n",
       " '(': 425,\n",
       " '머': 426,\n",
       " '웃': 427,\n",
       " '꼴': 428,\n",
       " '전화': 429,\n",
       " '이젠': 430,\n",
       " '힘': 431,\n",
       " '개월': 432,\n",
       " '됨': 433,\n",
       " '배우': 434,\n",
       " '엄마': 435,\n",
       " '벌': 436,\n",
       " '아프': 437,\n",
       " '감': 438,\n",
       " '인생': 439,\n",
       " '나이': 440,\n",
       " '촛불': 441,\n",
       " '맘': 442,\n",
       " '드립니다': 443,\n",
       " '아닌': 444,\n",
       " '연아': 445,\n",
       " '씩': 446,\n",
       " '보여': 447,\n",
       " '가장': 448,\n",
       " '준': 449,\n",
       " '도대체': 450,\n",
       " '눈물': 451,\n",
       " '쉬': 452,\n",
       " '밥': 453,\n",
       " '생일': 454,\n",
       " '당신': 455,\n",
       " '갑자기': 456,\n",
       " '궁금': 457,\n",
       " '뒤': 458,\n",
       " '봐도': 459,\n",
       " '아주': 460,\n",
       " '기분': 461,\n",
       " '구속': 462,\n",
       " '마다': 463,\n",
       " '결국': 464,\n",
       " '자꾸': 465,\n",
       " '멋지': 466,\n",
       " '라서': 467,\n",
       " '경기': 468,\n",
       " '그런데': 469,\n",
       " '열심히': 470,\n",
       " '날씨': 471,\n",
       " '부모': 472,\n",
       " '벌써': 473,\n",
       " '방송': 474,\n",
       " '급': 475,\n",
       " '내일': 476,\n",
       " '는다': 477,\n",
       " '똥': 478,\n",
       " '노트': 479,\n",
       " '구요': 480,\n",
       " '조': 481,\n",
       " '프로': 482,\n",
       " '남친': 483,\n",
       " '어느': 484,\n",
       " '마지막': 485,\n",
       " '이미': 486,\n",
       " '행복': 487,\n",
       " '세': 488,\n",
       " '죄': 489,\n",
       " '힘드': 490,\n",
       " '무': 491,\n",
       " '천': 492,\n",
       " '올': 493,\n",
       " '선생': 494,\n",
       " \"'\": 495,\n",
       " '줘서': 496,\n",
       " '역사': 497,\n",
       " '헤어지': 498,\n",
       " '월': 499,\n",
       " '다면': 500,\n",
       " '그만': 501,\n",
       " '언론': 502,\n",
       " '피': 503,\n",
       " '사고': 504,\n",
       " '엘지': 505,\n",
       " '원래': 506,\n",
       " '플': 507,\n",
       " '수고': 508,\n",
       " '밖': 509,\n",
       " '싸': 510,\n",
       " '이름': 511,\n",
       " '라면': 512,\n",
       " '아무': 513,\n",
       " '케': 514,\n",
       " '공부': 515,\n",
       " '어라': 516,\n",
       " '호': 517,\n",
       " '조사': 518,\n",
       " '이해': 519,\n",
       " '나쁜': 520,\n",
       " '났': 521,\n",
       " '대상': 522,\n",
       " '재밌': 523,\n",
       " '느낌': 524,\n",
       " '얘': 525,\n",
       " '건강': 526,\n",
       " '준비': 527,\n",
       " '조금': 528,\n",
       " '주부': 529,\n",
       " '고생': 530,\n",
       " '생': 531,\n",
       " '간': 532,\n",
       " '잊': 533,\n",
       " '절대': 534,\n",
       " '미': 535,\n",
       " '몸': 536,\n",
       " '기억': 537,\n",
       " '-': 538,\n",
       " '똑같': 539,\n",
       " '혹시': 540,\n",
       " '야구': 541,\n",
       " '이것': 542,\n",
       " '열': 543,\n",
       " '먼저': 544,\n",
       " '단': 545,\n",
       " '햇': 546,\n",
       " '빨': 547,\n",
       " '술': 548,\n",
       " '걸까요': 549,\n",
       " '생겼': 550,\n",
       " '박사모': 551,\n",
       " '친': 552,\n",
       " '거짓말': 553,\n",
       " '노래': 554,\n",
       " '어떡': 555,\n",
       " '와서': 556,\n",
       " '드려요': 557,\n",
       " '세월': 558,\n",
       " '거든요': 559,\n",
       " '자체': 560,\n",
       " '시대': 561,\n",
       " '늘': 562,\n",
       " '만큼': 563,\n",
       " '정치': 564,\n",
       " '읽': 565,\n",
       " '봐야': 566,\n",
       " '대한': 567,\n",
       " '매일': 568,\n",
       " '자신': 569,\n",
       " '놀': 570,\n",
       " '올해': 571,\n",
       " '아이폰': 572,\n",
       " '나왔': 573,\n",
       " '돌': 574,\n",
       " '한다는': 575,\n",
       " '정권': 576,\n",
       " '에선': 577,\n",
       " '쯤': 578,\n",
       " '째': 579,\n",
       " '방법': 580,\n",
       " '용': 581,\n",
       " '제일': 582,\n",
       " '그래': 583,\n",
       " '♡': 584,\n",
       " '밖에': 585,\n",
       " '죄송': 586,\n",
       " '들어가': 587,\n",
       " '뉴스': 588,\n",
       " '감동': 589,\n",
       " '서울': 590,\n",
       " '스': 591,\n",
       " '병': 592,\n",
       " '따라': 593,\n",
       " '학교': 594,\n",
       " '잼': 595,\n",
       " '테': 596,\n",
       " '연애': 597,\n",
       " '끼': 598,\n",
       " '돼': 599,\n",
       " '땅': 600,\n",
       " '아침': 601,\n",
       " '현실': 602,\n",
       " '온': 603,\n",
       " '아라': 604,\n",
       " '시켜라': 605,\n",
       " '이쁘': 606,\n",
       " '딸': 607,\n",
       " '반': 608,\n",
       " '맨': 609,\n",
       " '가족': 610,\n",
       " '뭔가': 611,\n",
       " '차이': 612,\n",
       " '잖아': 613,\n",
       " '만드': 614,\n",
       " '상황': 615,\n",
       " '기다리': 616,\n",
       " '가격': 617,\n",
       " '위해': 618,\n",
       " '베': 619,\n",
       " '가슴': 620,\n",
       " '음식': 621,\n",
       " '줘야': 622,\n",
       " '줬': 623,\n",
       " '양': 624,\n",
       " '맨날': 625,\n",
       " '사형': 626,\n",
       " '식': 627,\n",
       " '유': 628,\n",
       " '대체': 629,\n",
       " '%': 630,\n",
       " '청와대': 631,\n",
       " '시즌': 632,\n",
       " '병원': 633,\n",
       " '거나': 634,\n",
       " '취업': 635,\n",
       " '시켜': 636,\n",
       " '경제': 637,\n",
       " '첫': 638,\n",
       " '재': 639,\n",
       " '자식': 640,\n",
       " '장난': 641,\n",
       " '낫': 642,\n",
       " '거의': 643,\n",
       " '삼': 644,\n",
       " '집회': 645,\n",
       " '썩': 646,\n",
       " '악': 647,\n",
       " '유재석': 648,\n",
       " '순간': 649,\n",
       " '아닌데': 650,\n",
       " '생기': 651,\n",
       " '할까': 652,\n",
       " '방': 653,\n",
       " ';;;': 654,\n",
       " '판': 655,\n",
       " '낳': 656,\n",
       " '작': 657,\n",
       " '니깐': 658,\n",
       " '내년': 659,\n",
       " '터지': 660,\n",
       " '처벌': 661,\n",
       " '께': 662,\n",
       " '미치': 663,\n",
       " '건데': 664,\n",
       " '지구': 665,\n",
       " '점점': 666,\n",
       " '발': 667,\n",
       " '해야지': 668,\n",
       " '거기': 669,\n",
       " '월급': 670,\n",
       " '나올': 671,\n",
       " '응': 672,\n",
       " '높': 673,\n",
       " '검찰': 674,\n",
       " '그게': 675,\n",
       " '우': 676,\n",
       " '미래': 677,\n",
       " '신기': 678,\n",
       " '지진': 679,\n",
       " '난다': 680,\n",
       " '권': 681,\n",
       " '산': 682,\n",
       " '혜': 683,\n",
       " '어쩌': 684,\n",
       " '는데요': 685,\n",
       " '자고': 686,\n",
       " '임신': 687,\n",
       " '힘든': 688,\n",
       " '어찌': 689,\n",
       " '사건': 690,\n",
       " '대로': 691,\n",
       " '존나': 692,\n",
       " '봐라': 693,\n",
       " '올리': 694,\n",
       " '따': 695,\n",
       " 'ㅤㅤ': 696,\n",
       " '시위': 697,\n",
       " '보수': 698,\n",
       " '자리': 699,\n",
       " '밤': 700,\n",
       " '한화': 701,\n",
       " '별': 702,\n",
       " '근': 703,\n",
       " '될까요': 704,\n",
       " '찾': 705,\n",
       " '중요': 706,\n",
       " '짱깨': 707,\n",
       " '저거': 708,\n",
       " '걸로': 709,\n",
       " '그것': 710,\n",
       " '존경': 711,\n",
       " '덕분': 712,\n",
       " '사용': 713,\n",
       " '인정': 714,\n",
       " '연봉': 715,\n",
       " '애플': 716,\n",
       " '오래': 717,\n",
       " '당장': 718,\n",
       " '노력': 719,\n",
       " '일어나': 720,\n",
       " '풀': 721,\n",
       " '계': 722,\n",
       " '괜히': 723,\n",
       " '나중': 724,\n",
       " '쓸': 725,\n",
       " '부': 726,\n",
       " '고마워요': 727,\n",
       " '써': 728,\n",
       " '아냐': 729,\n",
       " '아도': 730,\n",
       " '디': 731,\n",
       " '폭발': 732,\n",
       " '곧': 733,\n",
       " '기상청': 734,\n",
       " '능력': 735,\n",
       " '잠': 736,\n",
       " '사귀': 737,\n",
       " '구라': 738,\n",
       " '지나': 739,\n",
       " '전쟁': 740,\n",
       " '쥐': 741,\n",
       " '다르': 742,\n",
       " '자랑': 743,\n",
       " '이야기': 744,\n",
       " '됬': 745,\n",
       " '폐지': 746,\n",
       " '돌아가': 747,\n",
       " '개인': 748,\n",
       " '충격': 749,\n",
       " '면접': 750,\n",
       " '사기': 751,\n",
       " '예전': 752,\n",
       " '늦': 753,\n",
       " '아무리': 754,\n",
       " '주일': 755,\n",
       " '어렵': 756,\n",
       " '맛': 757,\n",
       " '예요': 758,\n",
       " '그대로': 759,\n",
       " '너희': 760,\n",
       " '핵': 761,\n",
       " '별로': 762,\n",
       " '평생': 763,\n",
       " '위험': 764,\n",
       " '엇': 765,\n",
       " '일단': 766,\n",
       " '당연': 767,\n",
       " '길래': 768,\n",
       " '부탁': 769,\n",
       " '도록': 770,\n",
       " '정상': 771,\n",
       " '하고': 772,\n",
       " '당하': 773,\n",
       " '비교': 774,\n",
       " '저렇게': 775,\n",
       " '무조건': 776,\n",
       " '공개': 777,\n",
       " '아기': 778,\n",
       " '지원': 779,\n",
       " '전부': 780,\n",
       " '조작': 781,\n",
       " '생활': 782,\n",
       " '옷': 783,\n",
       " '미세먼지': 784,\n",
       " '알려': 785,\n",
       " '겁나': 786,\n",
       " '카톡': 787,\n",
       " '한심': 788,\n",
       " '됩니다': 789,\n",
       " '약': 790,\n",
       " '소름': 791,\n",
       " '여러분': 792,\n",
       " '걍': 793,\n",
       " '뜨': 794,\n",
       " '값': 795,\n",
       " '탈': 796,\n",
       " '빵': 797,\n",
       " '서로': 798,\n",
       " '우승': 799,\n",
       " '빠': 800,\n",
       " '국내': 801,\n",
       " '만든': 802,\n",
       " '파': 803,\n",
       " '빨갱이': 804,\n",
       " '난리': 805,\n",
       " '이럴': 806,\n",
       " '관심': 807,\n",
       " '아들': 808,\n",
       " '져': 809,\n",
       " '려': 810,\n",
       " '대학': 811,\n",
       " '폭탄': 812,\n",
       " '십니다': 813,\n",
       " '땐': 814,\n",
       " '스트레스': 815,\n",
       " '갖': 816,\n",
       " '수사': 817,\n",
       " '사과': 818,\n",
       " '던지': 819,\n",
       " '알바': 820,\n",
       " '제목': 821,\n",
       " '예': 822,\n",
       " '봅니다': 823,\n",
       " '무도': 824,\n",
       " '꿈': 825,\n",
       " '설마': 826,\n",
       " '여친': 827,\n",
       " '좌': 828,\n",
       " '지내': 829,\n",
       " '닮': 830,\n",
       " '으면서': 831,\n",
       " '는가': 832,\n",
       " '넌': 833,\n",
       " '그리': 834,\n",
       " '틀': 835,\n",
       " '망하': 836,\n",
       " '의미': 837,\n",
       " '자주': 838,\n",
       " '쓴': 839,\n",
       " '시민': 840,\n",
       " '김': 841,\n",
       " '아빠': 842,\n",
       " '기아': 843,\n",
       " '진정': 844,\n",
       " '행동': 845,\n",
       " '다리': 846,\n",
       " '개돼지': 847,\n",
       " '사회': 848,\n",
       " '갓': 849,\n",
       " '언니': 850,\n",
       " '성공': 851,\n",
       " '느': 852,\n",
       " '본인': 853,\n",
       " '집단': 854,\n",
       " '박보검': 855,\n",
       " '그때': 856,\n",
       " '보고': 857,\n",
       " '군요': 858,\n",
       " '이야': 859,\n",
       " '인성': 860,\n",
       " '선': 861,\n",
       " '그동안': 862,\n",
       " '남편': 863,\n",
       " '거리': 864,\n",
       " '운전': 865,\n",
       " '심각': 866,\n",
       " '양심': 867,\n",
       " '사이': 868,\n",
       " '함께': 869,\n",
       " '바꾸': 870,\n",
       " '될지': 871,\n",
       " '다이어트': 872,\n",
       " '언제나': 873,\n",
       " '니다': 874,\n",
       " '끌': 875,\n",
       " '어떻': 876,\n",
       " '너무너무': 877,\n",
       " '진실': 878,\n",
       " '이리': 879,\n",
       " '메': 880,\n",
       " '저러': 881,\n",
       " '기회': 882,\n",
       " '그거': 883,\n",
       " '무시': 884,\n",
       " '리': 885,\n",
       " '호구': 886,\n",
       " '없애': 887,\n",
       " '애기': 888,\n",
       " '을지': 889,\n",
       " '버렸': 890,\n",
       " '생각나': 891,\n",
       " '편지': 892,\n",
       " '신경': 893,\n",
       " '연예인': 894,\n",
       " '말씀': 895,\n",
       " '첨': 896,\n",
       " '십': 897,\n",
       " '공무원': 898,\n",
       " '관리': 899,\n",
       " '다행': 900,\n",
       " '반대': 901,\n",
       " '역대': 902,\n",
       " '저기': 903,\n",
       " '몰': 904,\n",
       " '나온': 905,\n",
       " '간다': 906,\n",
       " '대가리': 907,\n",
       " '지지': 908,\n",
       " '노인': 909,\n",
       " '드디어': 910,\n",
       " '드리': 911,\n",
       " '국': 912,\n",
       " '꾼': 913,\n",
       " '장': 914,\n",
       " '골': 915,\n",
       " '결과': 916,\n",
       " '본다': 917,\n",
       " '아무것': 918,\n",
       " '늙': 919,\n",
       " '땜': 920,\n",
       " '직장': 921,\n",
       " '비리': 922,\n",
       " '교육': 923,\n",
       " '나온다': 924,\n",
       " '정유라': 925,\n",
       " '시험': 926,\n",
       " '네여': 927,\n",
       " '려면': 928,\n",
       " '걸리': 929,\n",
       " '돼지': 930,\n",
       " '빠지': 931,\n",
       " '도와': 932,\n",
       " '이후': 933,\n",
       " '투수': 934,\n",
       " '패': 935,\n",
       " '조심': 936,\n",
       " '죽이': 937,\n",
       " '이래': 938,\n",
       " '트': 939,\n",
       " '으니까': 940,\n",
       " '하늘': 941,\n",
       " '뛰': 942,\n",
       " '이슬람': 943,\n",
       " '끊': 944,\n",
       " '소': 945,\n",
       " '존': 946,\n",
       " '붙': 947,\n",
       " '총': 948,\n",
       " '듯이': 949,\n",
       " '어차피': 950,\n",
       " '봐요': 951,\n",
       " '소식': 952,\n",
       " '두렵': 953,\n",
       " '먼': 954,\n",
       " '어야지': 955,\n",
       " '버': 956,\n",
       " '부산': 957,\n",
       " '결정': 958,\n",
       " '편': 959,\n",
       " '저희': 960,\n",
       " '정보': 961,\n",
       " '해외': 962,\n",
       " '언': 963,\n",
       " '힘내': 964,\n",
       " '으시': 965,\n",
       " '떨어지': 966,\n",
       " '답답': 967,\n",
       " '뻔뻔': 968,\n",
       " '범죄': 969,\n",
       " '이재용': 970,\n",
       " '왠지': 971,\n",
       " '몰랐': 972,\n",
       " '검사': 973,\n",
       " '시리': 974,\n",
       " '시장': 975,\n",
       " '전라도': 976,\n",
       " '갤': 977,\n",
       " '동물': 978,\n",
       " '보단': 979,\n",
       " '친일파': 980,\n",
       " '증거': 981,\n",
       " '졌': 982,\n",
       " '왕': 983,\n",
       " '재산': 984,\n",
       " '옆': 985,\n",
       " '극': 986,\n",
       " '정리': 987,\n",
       " '노무현': 988,\n",
       " '네이버': 989,\n",
       " '심하': 990,\n",
       " '바보': 991,\n",
       " '도움': 992,\n",
       " '무엇': 993,\n",
       " '마시': 994,\n",
       " '누나': 995,\n",
       " '쇼': 996,\n",
       " '바리': 997,\n",
       " '절': 998,\n",
       " '멀': 999,\n",
       " '레기': 1000,\n",
       " ...}"
      ]
     },
     "execution_count": 28,
     "metadata": {},
     "output_type": "execute_result"
    }
   ],
   "source": [
    "token = Tokenizer(oov_token='<oov>')  #oov문제 발생시 대체 단어\n",
    "token.fit_on_texts(x_train_tokenized)             # 토큰화\n",
    "\n",
    "word_index = token.word_index           # 인덱스 별 단어\n",
    "\n",
    "print('총단어 갯수',len(word_index))\n",
    "word_index"
   ]
  },
  {
   "cell_type": "code",
   "execution_count": 29,
   "metadata": {},
   "outputs": [],
   "source": [
    "x_train_tokenized = token.texts_to_sequences(x_train_tokenized)     # 시퀸스 형태로 변환 ( 각 단어의 인덱스 )\n",
    "x_test_tokenized = token.texts_to_sequences(x_test_tokenized)"
   ]
  },
  {
   "cell_type": "code",
   "execution_count": 30,
   "metadata": {},
   "outputs": [],
   "source": [
    "from tensorflow.keras.preprocessing.sequence import pad_sequences\n",
    "max_len = 25    # 문장 최대길이 위 시각화 보고 판단\n",
    "\n",
    "x_train_pad = pad_sequences(x_train_tokenized, maxlen=max_len, padding='post')   # 패딩처리 ( 문장 길이 맞춤 )\n",
    "x_test_pad = pad_sequences(x_test_tokenized, maxlen=max_len, padding='post')"
   ]
  },
  {
   "cell_type": "code",
   "execution_count": 31,
   "metadata": {},
   "outputs": [],
   "source": [
    "#from sklearn.model_selection import train_test_split\n",
    "#x_train, x_test, y_train, y_test = train_test_split(df['사람문장1'], df['감정_대분류'], test_size=0.25, random_state=2)"
   ]
  },
  {
   "cell_type": "code",
   "execution_count": 32,
   "metadata": {
    "scrolled": true
   },
   "outputs": [
    {
     "name": "stdout",
     "output_type": "stream",
     "text": [
      "[  32 4128 2167  198  283    0    0    0    0    0    0    0    0    0\n",
      "    0    0    0    0    0    0    0    0    0    0    0]\n"
     ]
    },
    {
     "data": {
      "text/plain": [
       "((30875, 25), (7719, 25))"
      ]
     },
     "execution_count": 32,
     "metadata": {},
     "output_type": "execute_result"
    }
   ],
   "source": [
    "print(x_train_pad[0])\n",
    "x_train_pad.shape, x_test_pad.shape\n"
   ]
  },
  {
   "cell_type": "markdown",
   "metadata": {},
   "source": [
    "# 단층 RNN"
   ]
  },
  {
   "cell_type": "code",
   "execution_count": 33,
   "metadata": {},
   "outputs": [],
   "source": [
    "vocab_size = len(word_index) + 1  #토큰단어총갯수 단어갯수 0부터니 1더해서,\n",
    "dim = 100 #줄일 단어 임베딩 차원?\n",
    "max_length = 25   #입력 문장길이"
   ]
  },
  {
   "cell_type": "code",
   "execution_count": 34,
   "metadata": {},
   "outputs": [
    {
     "name": "stdout",
     "output_type": "stream",
     "text": [
      "Metal device set to: Apple M1 Pro\n"
     ]
    },
    {
     "name": "stderr",
     "output_type": "stream",
     "text": [
      "2022-07-06 13:40:43.166249: I tensorflow/core/common_runtime/pluggable_device/pluggable_device_factory.cc:305] Could not identify NUMA node of platform GPU ID 0, defaulting to 0. Your kernel may not have been built with NUMA support.\n",
      "2022-07-06 13:40:43.166386: I tensorflow/core/common_runtime/pluggable_device/pluggable_device_factory.cc:271] Created TensorFlow device (/job:localhost/replica:0/task:0/device:GPU:0 with 0 MB memory) -> physical PluggableDevice (device: 0, name: METAL, pci bus id: <undefined>)\n"
     ]
    }
   ],
   "source": [
    "model_1 = Sequential()\n",
    "model_1.add(Embedding(vocab_size, dim, mask_zero=True, input_length=max_length)) # mask_zero=True (패딩처리 인덱스0에 대해 의미 부여 하지않음)\n",
    "model_1.add(SimpleRNN(128))\n",
    "model_1.add(Dense(7, activation='softmax'))"
   ]
  },
  {
   "cell_type": "code",
   "execution_count": 35,
   "metadata": {},
   "outputs": [
    {
     "name": "stdout",
     "output_type": "stream",
     "text": [
      "Model: \"sequential\"\n",
      "_________________________________________________________________\n",
      " Layer (type)                Output Shape              Param #   \n",
      "=================================================================\n",
      " embedding (Embedding)       (None, 25, 100)           2276500   \n",
      "                                                                 \n",
      " simple_rnn (SimpleRNN)      (None, 128)               29312     \n",
      "                                                                 \n",
      " dense (Dense)               (None, 7)                 903       \n",
      "                                                                 \n",
      "=================================================================\n",
      "Total params: 2,306,715\n",
      "Trainable params: 2,306,715\n",
      "Non-trainable params: 0\n",
      "_________________________________________________________________\n"
     ]
    }
   ],
   "source": [
    "model_1.summary()"
   ]
  },
  {
   "cell_type": "code",
   "execution_count": 36,
   "metadata": {},
   "outputs": [],
   "source": [
    "model_1.compile(loss='sparse_categorical_crossentropy',#'sparse_categorical_crossentropy'\n",
    "             optimizer='adam',\n",
    "             metrics=['accuracy'])"
   ]
  },
  {
   "cell_type": "code",
   "execution_count": 37,
   "metadata": {
    "scrolled": false
   },
   "outputs": [
    {
     "name": "stdout",
     "output_type": "stream",
     "text": [
      "Epoch 1/8\n"
     ]
    },
    {
     "name": "stderr",
     "output_type": "stream",
     "text": [
      "2022-07-06 13:40:43.317077: W tensorflow/core/platform/profile_utils/cpu_utils.cc:128] Failed to get CPU frequency: 0 Hz\n",
      "2022-07-06 13:40:43.773962: I tensorflow/core/grappler/optimizers/custom_graph_optimizer_registry.cc:113] Plugin optimizer for device_type GPU is enabled.\n"
     ]
    },
    {
     "name": "stdout",
     "output_type": "stream",
     "text": [
      "121/121 [==============================] - ETA: 0s - loss: 1.6880 - accuracy: 0.3402"
     ]
    },
    {
     "name": "stderr",
     "output_type": "stream",
     "text": [
      "2022-07-06 13:41:40.839115: I tensorflow/core/grappler/optimizers/custom_graph_optimizer_registry.cc:113] Plugin optimizer for device_type GPU is enabled.\n"
     ]
    },
    {
     "name": "stdout",
     "output_type": "stream",
     "text": [
      "121/121 [==============================] - 59s 483ms/step - loss: 1.6880 - accuracy: 0.3402 - val_loss: 1.4554 - val_accuracy: 0.4306\n",
      "Epoch 2/8\n",
      "121/121 [==============================] - 53s 439ms/step - loss: 1.1266 - accuracy: 0.5966 - val_loss: 1.4681 - val_accuracy: 0.4406\n",
      "Epoch 3/8\n",
      "121/121 [==============================] - 58s 482ms/step - loss: 0.6027 - accuracy: 0.8051 - val_loss: 1.7433 - val_accuracy: 0.4376\n",
      "Epoch 4/8\n",
      "121/121 [==============================] - 59s 487ms/step - loss: 0.2804 - accuracy: 0.9163 - val_loss: 2.1949 - val_accuracy: 0.4125\n",
      "Epoch 5/8\n",
      "121/121 [==============================] - 58s 476ms/step - loss: 0.1576 - accuracy: 0.9544 - val_loss: 2.4858 - val_accuracy: 0.4073\n",
      "Epoch 6/8\n",
      "121/121 [==============================] - 59s 487ms/step - loss: 0.0981 - accuracy: 0.9733 - val_loss: 2.7630 - val_accuracy: 0.3989\n",
      "Epoch 7/8\n",
      "121/121 [==============================] - 61s 507ms/step - loss: 0.0659 - accuracy: 0.9831 - val_loss: 3.0294 - val_accuracy: 0.3976\n",
      "Epoch 8/8\n",
      "121/121 [==============================] - 61s 506ms/step - loss: 0.0512 - accuracy: 0.9872 - val_loss: 3.2934 - val_accuracy: 0.3991\n"
     ]
    }
   ],
   "source": [
    "history_1 = model_1.fit(x_train_pad, y_train, \n",
    "        epochs=8,\n",
    "        batch_size=256,\n",
    "        validation_data=(x_test_pad, y_test))"
   ]
  },
  {
   "cell_type": "markdown",
   "metadata": {},
   "source": [
    "# 다층 RNN"
   ]
  },
  {
   "cell_type": "code",
   "execution_count": 38,
   "metadata": {},
   "outputs": [],
   "source": [
    "model_2 = Sequential()\n",
    "model_2.add(Embedding(vocab_size, dim, mask_zero=True, input_length=max_length)) # mask_zero=True (패딩처리 인덱스0에 대해 의미 부여 하지않음)\n",
    "model_2.add(SimpleRNN(128, return_sequences=True))\n",
    "model_2.add(SimpleRNN(128, return_sequences=False))\n",
    "model_2.add(Dense(7, activation='softmax'))"
   ]
  },
  {
   "cell_type": "code",
   "execution_count": 39,
   "metadata": {},
   "outputs": [
    {
     "name": "stdout",
     "output_type": "stream",
     "text": [
      "Model: \"sequential_1\"\n",
      "_________________________________________________________________\n",
      " Layer (type)                Output Shape              Param #   \n",
      "=================================================================\n",
      " embedding_1 (Embedding)     (None, 25, 100)           2276500   \n",
      "                                                                 \n",
      " simple_rnn_1 (SimpleRNN)    (None, 25, 128)           29312     \n",
      "                                                                 \n",
      " simple_rnn_2 (SimpleRNN)    (None, 128)               32896     \n",
      "                                                                 \n",
      " dense_1 (Dense)             (None, 7)                 903       \n",
      "                                                                 \n",
      "=================================================================\n",
      "Total params: 2,339,611\n",
      "Trainable params: 2,339,611\n",
      "Non-trainable params: 0\n",
      "_________________________________________________________________\n"
     ]
    }
   ],
   "source": [
    "model_2.summary()"
   ]
  },
  {
   "cell_type": "code",
   "execution_count": 40,
   "metadata": {},
   "outputs": [],
   "source": [
    "model_2.compile(loss='sparse_categorical_crossentropy',#'sparse_categorical_crossentropy'\n",
    "             optimizer='adam',\n",
    "             metrics=['accuracy'])"
   ]
  },
  {
   "cell_type": "code",
   "execution_count": 41,
   "metadata": {},
   "outputs": [
    {
     "name": "stdout",
     "output_type": "stream",
     "text": [
      "Epoch 1/8\n"
     ]
    },
    {
     "name": "stderr",
     "output_type": "stream",
     "text": [
      "2022-07-06 13:48:33.133241: I tensorflow/core/grappler/optimizers/custom_graph_optimizer_registry.cc:113] Plugin optimizer for device_type GPU is enabled.\n"
     ]
    },
    {
     "name": "stdout",
     "output_type": "stream",
     "text": [
      "121/121 [==============================] - ETA: 0s - loss: 1.6641 - accuracy: 0.3369"
     ]
    },
    {
     "name": "stderr",
     "output_type": "stream",
     "text": [
      "2022-07-06 13:50:32.876258: I tensorflow/core/grappler/optimizers/custom_graph_optimizer_registry.cc:113] Plugin optimizer for device_type GPU is enabled.\n"
     ]
    },
    {
     "name": "stdout",
     "output_type": "stream",
     "text": [
      "121/121 [==============================] - 124s 1s/step - loss: 1.6641 - accuracy: 0.3369 - val_loss: 1.4521 - val_accuracy: 0.4345\n",
      "Epoch 2/8\n",
      "121/121 [==============================] - 121s 1s/step - loss: 1.0672 - accuracy: 0.6109 - val_loss: 1.5441 - val_accuracy: 0.4291\n",
      "Epoch 3/8\n",
      "121/121 [==============================] - 114s 939ms/step - loss: 0.5176 - accuracy: 0.8284 - val_loss: 1.9382 - val_accuracy: 0.4229\n",
      "Epoch 4/8\n",
      "121/121 [==============================] - 116s 960ms/step - loss: 0.2353 - accuracy: 0.9256 - val_loss: 2.3935 - val_accuracy: 0.4012\n",
      "Epoch 5/8\n",
      "121/121 [==============================] - 115s 949ms/step - loss: 0.1258 - accuracy: 0.9624 - val_loss: 2.8301 - val_accuracy: 0.3958\n",
      "Epoch 6/8\n",
      "121/121 [==============================] - 122s 1s/step - loss: 0.0789 - accuracy: 0.9766 - val_loss: 3.1524 - val_accuracy: 0.3980\n",
      "Epoch 7/8\n",
      "121/121 [==============================] - 122s 1s/step - loss: 0.0547 - accuracy: 0.9846 - val_loss: 3.4285 - val_accuracy: 0.3906\n",
      "Epoch 8/8\n",
      "121/121 [==============================] - 127s 1s/step - loss: 0.0404 - accuracy: 0.9890 - val_loss: 3.6554 - val_accuracy: 0.3896\n"
     ]
    }
   ],
   "source": [
    "history_2 = model_2.fit(x_train_pad, y_train, \n",
    "        epochs=8,\n",
    "        batch_size=256,\n",
    "        validation_data=(x_test_pad, y_test))"
   ]
  },
  {
   "cell_type": "markdown",
   "metadata": {},
   "source": [
    "# 단층 LSTM"
   ]
  },
  {
   "cell_type": "code",
   "execution_count": 42,
   "metadata": {},
   "outputs": [],
   "source": [
    "model_3 = Sequential()\n",
    "model_3.add(Embedding(vocab_size, dim, mask_zero=True, input_length=max_length)) # mask_zero=True (패딩처리 인덱스0에 대해 의미 부여 하지않음)\n",
    "model_3.add(LSTM(128))\n",
    "model_3.add(Dense(7, activation='softmax'))"
   ]
  },
  {
   "cell_type": "code",
   "execution_count": 43,
   "metadata": {},
   "outputs": [
    {
     "name": "stdout",
     "output_type": "stream",
     "text": [
      "Model: \"sequential_2\"\n",
      "_________________________________________________________________\n",
      " Layer (type)                Output Shape              Param #   \n",
      "=================================================================\n",
      " embedding_2 (Embedding)     (None, 25, 100)           2276500   \n",
      "                                                                 \n",
      " lstm (LSTM)                 (None, 128)               117248    \n",
      "                                                                 \n",
      " dense_2 (Dense)             (None, 7)                 903       \n",
      "                                                                 \n",
      "=================================================================\n",
      "Total params: 2,394,651\n",
      "Trainable params: 2,394,651\n",
      "Non-trainable params: 0\n",
      "_________________________________________________________________\n"
     ]
    }
   ],
   "source": [
    "model_3.summary()"
   ]
  },
  {
   "cell_type": "code",
   "execution_count": 44,
   "metadata": {},
   "outputs": [],
   "source": [
    "model_3.compile(loss='sparse_categorical_crossentropy',#'sparse_categorical_crossentropy'\n",
    "             optimizer='adam',\n",
    "             metrics=['accuracy'])"
   ]
  },
  {
   "cell_type": "code",
   "execution_count": 45,
   "metadata": {},
   "outputs": [
    {
     "name": "stdout",
     "output_type": "stream",
     "text": [
      "Epoch 1/8\n"
     ]
    },
    {
     "name": "stderr",
     "output_type": "stream",
     "text": [
      "2022-07-06 14:04:34.528814: I tensorflow/core/grappler/optimizers/custom_graph_optimizer_registry.cc:113] Plugin optimizer for device_type GPU is enabled.\n",
      "2022-07-06 14:04:34.767019: W tensorflow/core/common_runtime/forward_type_inference.cc:231] Type inference failed. This indicates an invalid graph that escaped type checking. Error message: INVALID_ARGUMENT: expected compatible input types, but input 1:\n",
      "type_id: TFT_OPTIONAL\n",
      "args {\n",
      "  type_id: TFT_PRODUCT\n",
      "  args {\n",
      "    type_id: TFT_TENSOR\n",
      "    args {\n",
      "      type_id: TFT_LEGACY_VARIANT\n",
      "    }\n",
      "  }\n",
      "}\n",
      " is neither a subtype nor a supertype of the combined inputs preceding it:\n",
      "type_id: TFT_OPTIONAL\n",
      "args {\n",
      "  type_id: TFT_PRODUCT\n",
      "  args {\n",
      "    type_id: TFT_TENSOR\n",
      "    args {\n",
      "      type_id: TFT_FLOAT\n",
      "    }\n",
      "  }\n",
      "}\n",
      "\n",
      "\twhile inferring type of node 'cond_40/output/_19'\n",
      "2022-07-06 14:04:34.770406: I tensorflow/core/grappler/optimizers/custom_graph_optimizer_registry.cc:113] Plugin optimizer for device_type GPU is enabled.\n",
      "2022-07-06 14:04:35.006134: I tensorflow/core/grappler/optimizers/custom_graph_optimizer_registry.cc:113] Plugin optimizer for device_type GPU is enabled.\n"
     ]
    },
    {
     "name": "stdout",
     "output_type": "stream",
     "text": [
      "121/121 [==============================] - ETA: 0s - loss: 1.8257 - accuracy: 0.2305"
     ]
    },
    {
     "name": "stderr",
     "output_type": "stream",
     "text": [
      "2022-07-06 14:04:45.158008: I tensorflow/core/grappler/optimizers/custom_graph_optimizer_registry.cc:113] Plugin optimizer for device_type GPU is enabled.\n",
      "2022-07-06 14:04:45.297252: I tensorflow/core/grappler/optimizers/custom_graph_optimizer_registry.cc:113] Plugin optimizer for device_type GPU is enabled.\n"
     ]
    },
    {
     "name": "stdout",
     "output_type": "stream",
     "text": [
      "121/121 [==============================] - 13s 89ms/step - loss: 1.8257 - accuracy: 0.2305 - val_loss: 1.6660 - val_accuracy: 0.3091\n",
      "Epoch 2/8\n",
      "121/121 [==============================] - 9s 76ms/step - loss: 1.5028 - accuracy: 0.3806 - val_loss: 1.4990 - val_accuracy: 0.3955\n",
      "Epoch 3/8\n",
      "121/121 [==============================] - 9s 75ms/step - loss: 1.2411 - accuracy: 0.5069 - val_loss: 1.4889 - val_accuracy: 0.4243\n",
      "Epoch 4/8\n",
      "121/121 [==============================] - 9s 68ms/step - loss: 1.0498 - accuracy: 0.5932 - val_loss: 1.5752 - val_accuracy: 0.4186\n",
      "Epoch 5/8\n",
      "121/121 [==============================] - 9s 73ms/step - loss: 0.9193 - accuracy: 0.6531 - val_loss: 1.6732 - val_accuracy: 0.4139\n",
      "Epoch 6/8\n",
      "121/121 [==============================] - 9s 75ms/step - loss: 0.8227 - accuracy: 0.6968 - val_loss: 1.8270 - val_accuracy: 0.4166\n",
      "Epoch 7/8\n",
      "121/121 [==============================] - 9s 71ms/step - loss: 0.7377 - accuracy: 0.7388 - val_loss: 1.8832 - val_accuracy: 0.4131\n",
      "Epoch 8/8\n",
      "121/121 [==============================] - 9s 73ms/step - loss: 0.6603 - accuracy: 0.7726 - val_loss: 1.8812 - val_accuracy: 0.4129\n"
     ]
    }
   ],
   "source": [
    "history_3 = model_3.fit(x_train_pad, y_train, \n",
    "        epochs=8,\n",
    "        batch_size=256,\n",
    "        validation_data=(x_test_pad, y_test))"
   ]
  },
  {
   "cell_type": "markdown",
   "metadata": {},
   "source": [
    "# 다층 LSTM"
   ]
  },
  {
   "cell_type": "code",
   "execution_count": 46,
   "metadata": {},
   "outputs": [],
   "source": [
    "model_4 = Sequential()\n",
    "model_4.add(Embedding(vocab_size, dim, mask_zero=True, input_length=max_length)) # mask_zero=True (패딩처리 인덱스0에 대해 의미 부여 하지않음)\n",
    "model_4.add(LSTM(128, return_sequences=True))\n",
    "model_4.add(LSTM(128, return_sequences=False))\n",
    "model_4.add(Dense(7, activation='softmax'))"
   ]
  },
  {
   "cell_type": "code",
   "execution_count": 47,
   "metadata": {},
   "outputs": [
    {
     "name": "stdout",
     "output_type": "stream",
     "text": [
      "Model: \"sequential_3\"\n",
      "_________________________________________________________________\n",
      " Layer (type)                Output Shape              Param #   \n",
      "=================================================================\n",
      " embedding_3 (Embedding)     (None, 25, 100)           2276500   \n",
      "                                                                 \n",
      " lstm_1 (LSTM)               (None, 25, 128)           117248    \n",
      "                                                                 \n",
      " lstm_2 (LSTM)               (None, 128)               131584    \n",
      "                                                                 \n",
      " dense_3 (Dense)             (None, 7)                 903       \n",
      "                                                                 \n",
      "=================================================================\n",
      "Total params: 2,526,235\n",
      "Trainable params: 2,526,235\n",
      "Non-trainable params: 0\n",
      "_________________________________________________________________\n"
     ]
    }
   ],
   "source": [
    "model_4.summary()"
   ]
  },
  {
   "cell_type": "code",
   "execution_count": 48,
   "metadata": {},
   "outputs": [],
   "source": [
    "model_4.compile(loss='sparse_categorical_crossentropy',#'sparse_categorical_crossentropy'\n",
    "             optimizer='adam',\n",
    "             metrics=['accuracy'])"
   ]
  },
  {
   "cell_type": "code",
   "execution_count": 49,
   "metadata": {},
   "outputs": [
    {
     "name": "stdout",
     "output_type": "stream",
     "text": [
      "Epoch 1/8\n"
     ]
    },
    {
     "name": "stderr",
     "output_type": "stream",
     "text": [
      "2022-07-06 14:05:52.282147: I tensorflow/core/grappler/optimizers/custom_graph_optimizer_registry.cc:113] Plugin optimizer for device_type GPU is enabled.\n",
      "2022-07-06 14:05:52.738192: I tensorflow/core/grappler/optimizers/custom_graph_optimizer_registry.cc:113] Plugin optimizer for device_type GPU is enabled.\n",
      "2022-07-06 14:05:52.926454: I tensorflow/core/grappler/optimizers/custom_graph_optimizer_registry.cc:113] Plugin optimizer for device_type GPU is enabled.\n",
      "2022-07-06 14:05:53.141881: I tensorflow/core/grappler/optimizers/custom_graph_optimizer_registry.cc:113] Plugin optimizer for device_type GPU is enabled.\n",
      "2022-07-06 14:05:53.382940: I tensorflow/core/grappler/optimizers/custom_graph_optimizer_registry.cc:113] Plugin optimizer for device_type GPU is enabled.\n"
     ]
    },
    {
     "name": "stdout",
     "output_type": "stream",
     "text": [
      "121/121 [==============================] - ETA: 0s - loss: 1.7389 - accuracy: 0.2716"
     ]
    },
    {
     "name": "stderr",
     "output_type": "stream",
     "text": [
      "2022-07-06 14:06:09.416203: I tensorflow/core/grappler/optimizers/custom_graph_optimizer_registry.cc:113] Plugin optimizer for device_type GPU is enabled.\n",
      "2022-07-06 14:06:09.669929: I tensorflow/core/grappler/optimizers/custom_graph_optimizer_registry.cc:113] Plugin optimizer for device_type GPU is enabled.\n",
      "2022-07-06 14:06:09.779021: I tensorflow/core/grappler/optimizers/custom_graph_optimizer_registry.cc:113] Plugin optimizer for device_type GPU is enabled.\n"
     ]
    },
    {
     "name": "stdout",
     "output_type": "stream",
     "text": [
      "121/121 [==============================] - 22s 144ms/step - loss: 1.7389 - accuracy: 0.2716 - val_loss: 1.5535 - val_accuracy: 0.3607\n",
      "Epoch 2/8\n",
      "121/121 [==============================] - 14s 114ms/step - loss: 1.3936 - accuracy: 0.4351 - val_loss: 1.4799 - val_accuracy: 0.4118\n",
      "Epoch 3/8\n",
      "121/121 [==============================] - 14s 116ms/step - loss: 1.1878 - accuracy: 0.5326 - val_loss: 1.4857 - val_accuracy: 0.4289\n",
      "Epoch 4/8\n",
      "121/121 [==============================] - 14s 114ms/step - loss: 1.0106 - accuracy: 0.6140 - val_loss: 1.5661 - val_accuracy: 0.4214\n",
      "Epoch 5/8\n",
      "121/121 [==============================] - 12s 99ms/step - loss: 0.8821 - accuracy: 0.6783 - val_loss: 1.6591 - val_accuracy: 0.4161\n",
      "Epoch 6/8\n",
      "121/121 [==============================] - 14s 114ms/step - loss: 0.7799 - accuracy: 0.7269 - val_loss: 1.8553 - val_accuracy: 0.4183\n",
      "Epoch 7/8\n",
      "121/121 [==============================] - 14s 113ms/step - loss: 0.6896 - accuracy: 0.7655 - val_loss: 1.9186 - val_accuracy: 0.4222\n",
      "Epoch 8/8\n",
      "121/121 [==============================] - 14s 114ms/step - loss: 0.6034 - accuracy: 0.8001 - val_loss: 1.9410 - val_accuracy: 0.4138\n"
     ]
    }
   ],
   "source": [
    "history_4 = model_4.fit(x_train_pad, y_train, \n",
    "        epochs=8,\n",
    "        batch_size=256,\n",
    "        validation_data=(x_test_pad, y_test))"
   ]
  },
  {
   "cell_type": "markdown",
   "metadata": {},
   "source": [
    "# 단층 Bi LSTM"
   ]
  },
  {
   "cell_type": "code",
   "execution_count": 50,
   "metadata": {},
   "outputs": [],
   "source": [
    "model_5 = Sequential()\n",
    "model_5.add(Embedding(vocab_size, dim, mask_zero=True, input_length=max_length)) # mask_zero=True (패딩처리 인덱스0에 대해 의미 부여 하지않음)\n",
    "model_5.add(Bidirectional(LSTM(128)))\n",
    "model_5.add(Dense(7, activation='softmax'))"
   ]
  },
  {
   "cell_type": "code",
   "execution_count": 51,
   "metadata": {},
   "outputs": [
    {
     "name": "stdout",
     "output_type": "stream",
     "text": [
      "Model: \"sequential_4\"\n",
      "_________________________________________________________________\n",
      " Layer (type)                Output Shape              Param #   \n",
      "=================================================================\n",
      " embedding_4 (Embedding)     (None, 25, 100)           2276500   \n",
      "                                                                 \n",
      " bidirectional (Bidirectiona  (None, 256)              234496    \n",
      " l)                                                              \n",
      "                                                                 \n",
      " dense_4 (Dense)             (None, 7)                 1799      \n",
      "                                                                 \n",
      "=================================================================\n",
      "Total params: 2,512,795\n",
      "Trainable params: 2,512,795\n",
      "Non-trainable params: 0\n",
      "_________________________________________________________________\n"
     ]
    }
   ],
   "source": [
    "model_5.summary()"
   ]
  },
  {
   "cell_type": "code",
   "execution_count": 52,
   "metadata": {},
   "outputs": [],
   "source": [
    "model_5.compile(loss='sparse_categorical_crossentropy',#'sparse_categorical_crossentropy'\n",
    "             optimizer='adam',\n",
    "             metrics=['accuracy'])"
   ]
  },
  {
   "cell_type": "code",
   "execution_count": 53,
   "metadata": {},
   "outputs": [
    {
     "name": "stdout",
     "output_type": "stream",
     "text": [
      "Epoch 1/8\n"
     ]
    },
    {
     "name": "stderr",
     "output_type": "stream",
     "text": [
      "2022-07-06 14:07:49.259762: I tensorflow/core/grappler/optimizers/custom_graph_optimizer_registry.cc:113] Plugin optimizer for device_type GPU is enabled.\n",
      "2022-07-06 14:07:49.723659: I tensorflow/core/grappler/optimizers/custom_graph_optimizer_registry.cc:113] Plugin optimizer for device_type GPU is enabled.\n",
      "2022-07-06 14:07:49.847238: I tensorflow/core/grappler/optimizers/custom_graph_optimizer_registry.cc:113] Plugin optimizer for device_type GPU is enabled.\n",
      "2022-07-06 14:07:50.219167: I tensorflow/core/grappler/optimizers/custom_graph_optimizer_registry.cc:113] Plugin optimizer for device_type GPU is enabled.\n",
      "2022-07-06 14:07:50.342840: I tensorflow/core/grappler/optimizers/custom_graph_optimizer_registry.cc:113] Plugin optimizer for device_type GPU is enabled.\n"
     ]
    },
    {
     "name": "stdout",
     "output_type": "stream",
     "text": [
      "121/121 [==============================] - ETA: 0s - loss: 1.7681 - accuracy: 0.2553"
     ]
    },
    {
     "name": "stderr",
     "output_type": "stream",
     "text": [
      "2022-07-06 14:08:35.049919: I tensorflow/core/grappler/optimizers/custom_graph_optimizer_registry.cc:113] Plugin optimizer for device_type GPU is enabled.\n",
      "2022-07-06 14:08:35.302411: I tensorflow/core/grappler/optimizers/custom_graph_optimizer_registry.cc:113] Plugin optimizer for device_type GPU is enabled.\n",
      "2022-07-06 14:08:35.357584: I tensorflow/core/grappler/optimizers/custom_graph_optimizer_registry.cc:113] Plugin optimizer for device_type GPU is enabled.\n"
     ]
    },
    {
     "name": "stdout",
     "output_type": "stream",
     "text": [
      "121/121 [==============================] - 53s 410ms/step - loss: 1.7681 - accuracy: 0.2553 - val_loss: 1.5709 - val_accuracy: 0.3569\n",
      "Epoch 2/8\n",
      "121/121 [==============================] - 46s 377ms/step - loss: 1.3995 - accuracy: 0.4360 - val_loss: 1.4630 - val_accuracy: 0.4175\n",
      "Epoch 3/8\n",
      "121/121 [==============================] - 46s 377ms/step - loss: 1.1690 - accuracy: 0.5415 - val_loss: 1.4944 - val_accuracy: 0.4230\n",
      "Epoch 4/8\n",
      "121/121 [==============================] - 45s 375ms/step - loss: 0.9956 - accuracy: 0.6263 - val_loss: 1.6137 - val_accuracy: 0.4155\n",
      "Epoch 5/8\n",
      "121/121 [==============================] - 46s 377ms/step - loss: 0.8430 - accuracy: 0.7043 - val_loss: 1.7648 - val_accuracy: 0.4161\n",
      "Epoch 6/8\n",
      "121/121 [==============================] - 46s 383ms/step - loss: 0.7301 - accuracy: 0.7538 - val_loss: 1.8414 - val_accuracy: 0.4098\n",
      "Epoch 7/8\n",
      "121/121 [==============================] - 46s 377ms/step - loss: 0.6413 - accuracy: 0.7896 - val_loss: 2.0309 - val_accuracy: 0.4043\n",
      "Epoch 8/8\n",
      "121/121 [==============================] - 44s 364ms/step - loss: 0.5635 - accuracy: 0.8175 - val_loss: 2.2222 - val_accuracy: 0.4095\n"
     ]
    }
   ],
   "source": [
    "history_5 = model_5.fit(x_train_pad, y_train, \n",
    "        epochs=8,\n",
    "        batch_size=256,\n",
    "        validation_data=(x_test_pad, y_test))"
   ]
  },
  {
   "cell_type": "markdown",
   "metadata": {},
   "source": [
    "# 다층 Bi LSTM"
   ]
  },
  {
   "cell_type": "code",
   "execution_count": 54,
   "metadata": {},
   "outputs": [],
   "source": [
    "model_6 = Sequential()\n",
    "model_6.add(Embedding(vocab_size, dim, mask_zero=True, input_length=max_length)) # mask_zero=True (패딩처리 인덱스0에 대해 의미 부여 하지않음)\n",
    "model_6.add(Bidirectional(LSTM(128, return_sequences=True)))\n",
    "model_6.add(Bidirectional(LSTM(128, return_sequences=False)))\n",
    "model_6.add(Dense(7, activation='softmax'))"
   ]
  },
  {
   "cell_type": "code",
   "execution_count": 55,
   "metadata": {},
   "outputs": [
    {
     "name": "stdout",
     "output_type": "stream",
     "text": [
      "Model: \"sequential_5\"\n",
      "_________________________________________________________________\n",
      " Layer (type)                Output Shape              Param #   \n",
      "=================================================================\n",
      " embedding_5 (Embedding)     (None, 25, 100)           2276500   \n",
      "                                                                 \n",
      " bidirectional_1 (Bidirectio  (None, 25, 256)          234496    \n",
      " nal)                                                            \n",
      "                                                                 \n",
      " bidirectional_2 (Bidirectio  (None, 256)              394240    \n",
      " nal)                                                            \n",
      "                                                                 \n",
      " dense_5 (Dense)             (None, 7)                 1799      \n",
      "                                                                 \n",
      "=================================================================\n",
      "Total params: 2,907,035\n",
      "Trainable params: 2,907,035\n",
      "Non-trainable params: 0\n",
      "_________________________________________________________________\n"
     ]
    }
   ],
   "source": [
    "model_6.summary()"
   ]
  },
  {
   "cell_type": "code",
   "execution_count": 56,
   "metadata": {},
   "outputs": [],
   "source": [
    "model_6.compile(loss='sparse_categorical_crossentropy',#'sparse_categorical_crossentropy'\n",
    "             optimizer='adam',\n",
    "             metrics=['accuracy'])"
   ]
  },
  {
   "cell_type": "code",
   "execution_count": 57,
   "metadata": {},
   "outputs": [
    {
     "name": "stdout",
     "output_type": "stream",
     "text": [
      "Epoch 1/8\n"
     ]
    },
    {
     "name": "stderr",
     "output_type": "stream",
     "text": [
      "2022-07-06 14:14:04.828365: I tensorflow/core/grappler/optimizers/custom_graph_optimizer_registry.cc:113] Plugin optimizer for device_type GPU is enabled.\n",
      "2022-07-06 14:14:05.629259: I tensorflow/core/grappler/optimizers/custom_graph_optimizer_registry.cc:113] Plugin optimizer for device_type GPU is enabled.\n",
      "2022-07-06 14:14:05.744014: I tensorflow/core/grappler/optimizers/custom_graph_optimizer_registry.cc:113] Plugin optimizer for device_type GPU is enabled.\n",
      "2022-07-06 14:14:06.150153: I tensorflow/core/grappler/optimizers/custom_graph_optimizer_registry.cc:113] Plugin optimizer for device_type GPU is enabled.\n",
      "2022-07-06 14:14:06.263342: I tensorflow/core/grappler/optimizers/custom_graph_optimizer_registry.cc:113] Plugin optimizer for device_type GPU is enabled.\n",
      "2022-07-06 14:14:06.612812: I tensorflow/core/grappler/optimizers/custom_graph_optimizer_registry.cc:113] Plugin optimizer for device_type GPU is enabled.\n",
      "2022-07-06 14:14:06.728448: I tensorflow/core/grappler/optimizers/custom_graph_optimizer_registry.cc:113] Plugin optimizer for device_type GPU is enabled.\n",
      "2022-07-06 14:14:07.058340: I tensorflow/core/grappler/optimizers/custom_graph_optimizer_registry.cc:113] Plugin optimizer for device_type GPU is enabled.\n",
      "2022-07-06 14:14:07.170667: I tensorflow/core/grappler/optimizers/custom_graph_optimizer_registry.cc:113] Plugin optimizer for device_type GPU is enabled.\n"
     ]
    },
    {
     "name": "stdout",
     "output_type": "stream",
     "text": [
      "121/121 [==============================] - ETA: 0s - loss: 1.7350 - accuracy: 0.2766"
     ]
    },
    {
     "name": "stderr",
     "output_type": "stream",
     "text": [
      "2022-07-06 14:15:54.340660: I tensorflow/core/grappler/optimizers/custom_graph_optimizer_registry.cc:113] Plugin optimizer for device_type GPU is enabled.\n",
      "2022-07-06 14:15:54.842571: I tensorflow/core/grappler/optimizers/custom_graph_optimizer_registry.cc:113] Plugin optimizer for device_type GPU is enabled.\n",
      "2022-07-06 14:15:54.898023: I tensorflow/core/grappler/optimizers/custom_graph_optimizer_registry.cc:113] Plugin optimizer for device_type GPU is enabled.\n",
      "2022-07-06 14:15:55.271092: I tensorflow/core/grappler/optimizers/custom_graph_optimizer_registry.cc:113] Plugin optimizer for device_type GPU is enabled.\n",
      "2022-07-06 14:15:55.330837: I tensorflow/core/grappler/optimizers/custom_graph_optimizer_registry.cc:113] Plugin optimizer for device_type GPU is enabled.\n"
     ]
    },
    {
     "name": "stdout",
     "output_type": "stream",
     "text": [
      "121/121 [==============================] - 127s 994ms/step - loss: 1.7350 - accuracy: 0.2766 - val_loss: 1.5319 - val_accuracy: 0.3670\n",
      "Epoch 2/8\n",
      "121/121 [==============================] - 116s 956ms/step - loss: 1.3826 - accuracy: 0.4301 - val_loss: 1.4831 - val_accuracy: 0.4096\n",
      "Epoch 3/8\n",
      "121/121 [==============================] - 115s 953ms/step - loss: 1.1456 - accuracy: 0.5500 - val_loss: 1.4827 - val_accuracy: 0.4394\n",
      "Epoch 4/8\n",
      "121/121 [==============================] - 114s 947ms/step - loss: 0.9149 - accuracy: 0.6673 - val_loss: 1.5927 - val_accuracy: 0.4345\n",
      "Epoch 5/8\n",
      "121/121 [==============================] - 115s 950ms/step - loss: 0.7516 - accuracy: 0.7404 - val_loss: 1.8016 - val_accuracy: 0.4197\n",
      "Epoch 6/8\n",
      "121/121 [==============================] - 114s 945ms/step - loss: 0.6416 - accuracy: 0.7852 - val_loss: 1.9539 - val_accuracy: 0.4210\n",
      "Epoch 7/8\n",
      "121/121 [==============================] - 117s 968ms/step - loss: 0.5735 - accuracy: 0.8120 - val_loss: 1.9365 - val_accuracy: 0.4200\n",
      "Epoch 8/8\n",
      "121/121 [==============================] - 116s 961ms/step - loss: 0.5050 - accuracy: 0.8360 - val_loss: 2.0925 - val_accuracy: 0.4135\n"
     ]
    }
   ],
   "source": [
    "history_6 = model_6.fit(x_train_pad, y_train, \n",
    "        epochs=8,\n",
    "        batch_size=256,\n",
    "        validation_data=(x_test_pad, y_test))"
   ]
  },
  {
   "cell_type": "markdown",
   "metadata": {},
   "source": [
    "# Fast Text 임베딩 사전학습 모델 "
   ]
  },
  {
   "cell_type": "code",
   "execution_count": 58,
   "metadata": {
    "scrolled": true
   },
   "outputs": [],
   "source": [
    "fasttext_model = KeyedVectors.load_word2vec_format('cc.ko.300.vec',encoding='utf-8',limit=1000000)"
   ]
  },
  {
   "cell_type": "code",
   "execution_count": 59,
   "metadata": {
    "collapsed": true
   },
   "outputs": [
    {
     "name": "stdout",
     "output_type": "stream",
     "text": [
      "Type of model: <class 'gensim.models.keyedvectors.KeyedVectors'>\n",
      "(1000000, 300)\n",
      "[('놀랐음', 0.5921538472175598), ('어후', 0.5859335660934448), ('완젼', 0.5720875859260559), ('히익', 0.5643534660339355), ('느무', 0.5641300082206726), ('쩐다', 0.5638048052787781), ('우왓', 0.5616081357002258), ('졸귀', 0.5612671971321106), ('으아니', 0.5593206882476807), ('뭥미', 0.5561990737915039)]\n"
     ]
    },
    {
     "data": {
      "text/plain": [
       "300"
      ]
     },
     "execution_count": 59,
     "metadata": {},
     "output_type": "execute_result"
    }
   ],
   "source": [
    "print(f\"Type of model: {type(fasttext_model)}\")\n",
    "print(fasttext_model.vectors.shape)\n",
    "print(fasttext_model.most_similar('깜놀'))\n",
    "len(fasttext_model[0])"
   ]
  },
  {
   "cell_type": "code",
   "execution_count": 60,
   "metadata": {},
   "outputs": [],
   "source": [
    "vocab_size = len(word_index) + 1"
   ]
  },
  {
   "cell_type": "code",
   "execution_count": 61,
   "metadata": {},
   "outputs": [],
   "source": [
    "embedding_matrix = np.zeros((vocab_size, 300))"
   ]
  },
  {
   "cell_type": "code",
   "execution_count": 62,
   "metadata": {},
   "outputs": [],
   "source": [
    "def get_vector(word):\n",
    "    \"\"\"\n",
    "    해당 word가 word2vec에 있는 단어일 경우 임베딩 벡터를 반환\n",
    "    \"\"\"\n",
    "    if word in fasttext_model:\n",
    "        return fasttext_model[word]\n",
    "    else:\n",
    "        return None\n",
    "\n",
    "    \n",
    "for word, i in word_index.items(): # 훈련 데이터의 단어 집합에서 단어와 정수 인덱스를 1개씩 꺼내온다.\n",
    "    temp = get_vector(word)       # 단어(key) 해당되는 임베딩 벡터의 300개의 값(value)를 임시 변수에 저장\n",
    "    if temp is not None:       # 만약 None이 아니라면 임베딩 벡터의 값을 리턴받은 것이므로\n",
    "        embedding_matrix[i] = temp # 해당 단어 위치의 행에 벡터의 값을 저장한다.\n",
    "\n"
   ]
  },
  {
   "cell_type": "code",
   "execution_count": null,
   "metadata": {},
   "outputs": [],
   "source": []
  },
  {
   "cell_type": "code",
   "execution_count": 63,
   "metadata": {},
   "outputs": [],
   "source": [
    "vocab_size = len(word_index) + 1 \n",
    "dim = 300 \n",
    "max_length = 25   "
   ]
  },
  {
   "cell_type": "code",
   "execution_count": 73,
   "metadata": {},
   "outputs": [],
   "source": [
    "model_7 = Sequential()\n",
    "model_7.add(Embedding(vocab_size, dim, weights=[embedding_matrix], input_length=max_length, trainable=False))\n",
    "model_7.add(Bidirectional(LSTM(128, dropout=0.2, return_sequences=True)))\n",
    "model_7.add(Bidirectional(LSTM(128, dropout=0.2, return_sequences=True)))\n",
    "model_7.add(Bidirectional(LSTM(128, dropout=0.2, return_sequences=True)))\n",
    "model_7.add(Bidirectional(LSTM(64)))\n",
    "model_7.add(Dense(7, activation='softmax'))"
   ]
  },
  {
   "cell_type": "code",
   "execution_count": 74,
   "metadata": {
    "collapsed": true
   },
   "outputs": [
    {
     "name": "stdout",
     "output_type": "stream",
     "text": [
      "Model: \"sequential_7\"\n",
      "_________________________________________________________________\n",
      " Layer (type)                Output Shape              Param #   \n",
      "=================================================================\n",
      " embedding_7 (Embedding)     (None, 25, 300)           6829500   \n",
      "                                                                 \n",
      " bidirectional_6 (Bidirectio  (None, 25, 256)          439296    \n",
      " nal)                                                            \n",
      "                                                                 \n",
      " bidirectional_7 (Bidirectio  (None, 25, 256)          394240    \n",
      " nal)                                                            \n",
      "                                                                 \n",
      " bidirectional_8 (Bidirectio  (None, 25, 256)          394240    \n",
      " nal)                                                            \n",
      "                                                                 \n",
      " bidirectional_9 (Bidirectio  (None, 128)              164352    \n",
      " nal)                                                            \n",
      "                                                                 \n",
      " dense_7 (Dense)             (None, 7)                 903       \n",
      "                                                                 \n",
      "=================================================================\n",
      "Total params: 8,222,531\n",
      "Trainable params: 1,393,031\n",
      "Non-trainable params: 6,829,500\n",
      "_________________________________________________________________\n"
     ]
    }
   ],
   "source": [
    "model_7.summary()"
   ]
  },
  {
   "cell_type": "code",
   "execution_count": 75,
   "metadata": {},
   "outputs": [],
   "source": [
    "model_7.compile(loss='sparse_categorical_crossentropy',#'sparse_categorical_crossentropy'\n",
    "             optimizer='adam',\n",
    "             metrics=['accuracy'])\n"
   ]
  },
  {
   "cell_type": "code",
   "execution_count": 76,
   "metadata": {
    "collapsed": true
   },
   "outputs": [
    {
     "name": "stdout",
     "output_type": "stream",
     "text": [
      "Epoch 1/10\n"
     ]
    },
    {
     "name": "stderr",
     "output_type": "stream",
     "text": [
      "2022-07-06 14:42:40.844354: I tensorflow/core/grappler/optimizers/custom_graph_optimizer_registry.cc:113] Plugin optimizer for device_type GPU is enabled.\n",
      "2022-07-06 14:42:41.570242: I tensorflow/core/grappler/optimizers/custom_graph_optimizer_registry.cc:113] Plugin optimizer for device_type GPU is enabled.\n",
      "2022-07-06 14:42:41.588355: I tensorflow/core/grappler/optimizers/custom_graph_optimizer_registry.cc:113] Plugin optimizer for device_type GPU is enabled.\n",
      "2022-07-06 14:42:41.740525: I tensorflow/core/grappler/optimizers/custom_graph_optimizer_registry.cc:113] Plugin optimizer for device_type GPU is enabled.\n",
      "2022-07-06 14:42:41.751404: I tensorflow/core/grappler/optimizers/custom_graph_optimizer_registry.cc:113] Plugin optimizer for device_type GPU is enabled.\n",
      "2022-07-06 14:42:41.896714: I tensorflow/core/grappler/optimizers/custom_graph_optimizer_registry.cc:113] Plugin optimizer for device_type GPU is enabled.\n",
      "2022-07-06 14:42:41.907851: I tensorflow/core/grappler/optimizers/custom_graph_optimizer_registry.cc:113] Plugin optimizer for device_type GPU is enabled.\n",
      "2022-07-06 14:42:42.031074: I tensorflow/core/grappler/optimizers/custom_graph_optimizer_registry.cc:113] Plugin optimizer for device_type GPU is enabled.\n",
      "2022-07-06 14:42:42.041950: I tensorflow/core/grappler/optimizers/custom_graph_optimizer_registry.cc:113] Plugin optimizer for device_type GPU is enabled.\n",
      "2022-07-06 14:42:42.225915: I tensorflow/core/grappler/optimizers/custom_graph_optimizer_registry.cc:113] Plugin optimizer for device_type GPU is enabled.\n",
      "2022-07-06 14:42:42.240636: I tensorflow/core/grappler/optimizers/custom_graph_optimizer_registry.cc:113] Plugin optimizer for device_type GPU is enabled.\n",
      "2022-07-06 14:42:42.479863: I tensorflow/core/grappler/optimizers/custom_graph_optimizer_registry.cc:113] Plugin optimizer for device_type GPU is enabled.\n",
      "2022-07-06 14:42:42.496769: I tensorflow/core/grappler/optimizers/custom_graph_optimizer_registry.cc:113] Plugin optimizer for device_type GPU is enabled.\n",
      "2022-07-06 14:42:42.752959: I tensorflow/core/grappler/optimizers/custom_graph_optimizer_registry.cc:113] Plugin optimizer for device_type GPU is enabled.\n",
      "2022-07-06 14:42:42.769189: I tensorflow/core/grappler/optimizers/custom_graph_optimizer_registry.cc:113] Plugin optimizer for device_type GPU is enabled.\n",
      "2022-07-06 14:42:43.029081: I tensorflow/core/grappler/optimizers/custom_graph_optimizer_registry.cc:113] Plugin optimizer for device_type GPU is enabled.\n",
      "2022-07-06 14:42:43.045101: I tensorflow/core/grappler/optimizers/custom_graph_optimizer_registry.cc:113] Plugin optimizer for device_type GPU is enabled.\n"
     ]
    },
    {
     "name": "stdout",
     "output_type": "stream",
     "text": [
      "121/121 [==============================] - ETA: 0s - loss: 1.6217 - accuracy: 0.3523"
     ]
    },
    {
     "name": "stderr",
     "output_type": "stream",
     "text": [
      "2022-07-06 14:42:56.048827: I tensorflow/core/grappler/optimizers/custom_graph_optimizer_registry.cc:113] Plugin optimizer for device_type GPU is enabled.\n",
      "2022-07-06 14:42:56.307508: I tensorflow/core/grappler/optimizers/custom_graph_optimizer_registry.cc:113] Plugin optimizer for device_type GPU is enabled.\n",
      "2022-07-06 14:42:56.320912: I tensorflow/core/grappler/optimizers/custom_graph_optimizer_registry.cc:113] Plugin optimizer for device_type GPU is enabled.\n",
      "2022-07-06 14:42:56.469578: I tensorflow/core/grappler/optimizers/custom_graph_optimizer_registry.cc:113] Plugin optimizer for device_type GPU is enabled.\n",
      "2022-07-06 14:42:56.477620: I tensorflow/core/grappler/optimizers/custom_graph_optimizer_registry.cc:113] Plugin optimizer for device_type GPU is enabled.\n",
      "2022-07-06 14:42:56.629536: I tensorflow/core/grappler/optimizers/custom_graph_optimizer_registry.cc:113] Plugin optimizer for device_type GPU is enabled.\n",
      "2022-07-06 14:42:56.637264: I tensorflow/core/grappler/optimizers/custom_graph_optimizer_registry.cc:113] Plugin optimizer for device_type GPU is enabled.\n",
      "2022-07-06 14:42:56.771219: I tensorflow/core/grappler/optimizers/custom_graph_optimizer_registry.cc:113] Plugin optimizer for device_type GPU is enabled.\n",
      "2022-07-06 14:42:56.779407: I tensorflow/core/grappler/optimizers/custom_graph_optimizer_registry.cc:113] Plugin optimizer for device_type GPU is enabled.\n"
     ]
    },
    {
     "name": "stdout",
     "output_type": "stream",
     "text": [
      "121/121 [==============================] - 22s 128ms/step - loss: 1.6217 - accuracy: 0.3523 - val_loss: 1.4964 - val_accuracy: 0.4248\n",
      "Epoch 2/10\n",
      "121/121 [==============================] - 12s 98ms/step - loss: 1.4934 - accuracy: 0.4154 - val_loss: 1.4668 - val_accuracy: 0.4354\n",
      "Epoch 3/10\n",
      "121/121 [==============================] - 11s 92ms/step - loss: 1.4628 - accuracy: 0.4310 - val_loss: 1.4458 - val_accuracy: 0.4394\n",
      "Epoch 4/10\n",
      "121/121 [==============================] - 11s 92ms/step - loss: 1.4348 - accuracy: 0.4422 - val_loss: 1.4306 - val_accuracy: 0.4454\n",
      "Epoch 5/10\n",
      "121/121 [==============================] - 11s 92ms/step - loss: 1.4077 - accuracy: 0.4512 - val_loss: 1.4149 - val_accuracy: 0.4539\n",
      "Epoch 6/10\n",
      "121/121 [==============================] - 11s 93ms/step - loss: 1.3809 - accuracy: 0.4627 - val_loss: 1.4012 - val_accuracy: 0.4569\n",
      "Epoch 7/10\n",
      "121/121 [==============================] - 11s 93ms/step - loss: 1.3583 - accuracy: 0.4727 - val_loss: 1.4159 - val_accuracy: 0.4539\n",
      "Epoch 8/10\n",
      "121/121 [==============================] - 11s 95ms/step - loss: 1.3307 - accuracy: 0.4835 - val_loss: 1.3955 - val_accuracy: 0.4599\n",
      "Epoch 9/10\n",
      "121/121 [==============================] - 11s 94ms/step - loss: 1.3047 - accuracy: 0.4946 - val_loss: 1.4003 - val_accuracy: 0.4595\n",
      "Epoch 10/10\n",
      "121/121 [==============================] - 11s 93ms/step - loss: 1.2808 - accuracy: 0.5052 - val_loss: 1.3799 - val_accuracy: 0.4615\n"
     ]
    }
   ],
   "source": [
    "history_7 = model_7.fit(x_train_pad, y_train, \n",
    "        epochs=10,\n",
    "        batch_size=256,\n",
    "        validation_data=(x_test_pad, y_test))\n"
   ]
  },
  {
   "cell_type": "code",
   "execution_count": 68,
   "metadata": {},
   "outputs": [],
   "source": [
    "#model.evaluate(x_test, y_test, verbose=1)"
   ]
  },
  {
   "cell_type": "code",
   "execution_count": 69,
   "metadata": {
    "scrolled": true
   },
   "outputs": [],
   "source": [
    "#predict_test = model.predict(x_test)"
   ]
  },
  {
   "cell_type": "code",
   "execution_count": 70,
   "metadata": {
    "scrolled": true
   },
   "outputs": [],
   "source": [
    "#import numpy as np\n",
    "#classes = np.argmax(predict_test, axis = 1)\n",
    "#print(classes)"
   ]
  },
  {
   "cell_type": "code",
   "execution_count": 71,
   "metadata": {},
   "outputs": [],
   "source": [
    "#classs = pd.Series(classes)\n",
    "#classs.value_counts()"
   ]
  },
  {
   "cell_type": "code",
   "execution_count": 72,
   "metadata": {},
   "outputs": [
    {
     "ename": "NameError",
     "evalue": "name 'classs' is not defined",
     "output_type": "error",
     "traceback": [
      "\u001b[0;31m---------------------------------------------------------------------------\u001b[0m",
      "\u001b[0;31mNameError\u001b[0m                                 Traceback (most recent call last)",
      "Input \u001b[0;32mIn [72]\u001b[0m, in \u001b[0;36m<cell line: 17>\u001b[0;34m()\u001b[0m\n\u001b[1;32m     14\u001b[0m     \u001b[38;5;28;01mif\u001b[39;00m x \u001b[38;5;241m==\u001b[39m \u001b[38;5;241m6\u001b[39m:\n\u001b[1;32m     15\u001b[0m         \u001b[38;5;28;01mreturn\u001b[39;00m \u001b[38;5;124m'\u001b[39m\u001b[38;5;124m혐오\u001b[39m\u001b[38;5;124m'\u001b[39m\n\u001b[0;32m---> 17\u001b[0m x_train[\u001b[38;5;124m'\u001b[39m\u001b[38;5;124m예측\u001b[39m\u001b[38;5;124m'\u001b[39m] \u001b[38;5;241m=\u001b[39m \u001b[43mclasss\u001b[49m\n\u001b[1;32m     18\u001b[0m data[\u001b[38;5;124m'\u001b[39m\u001b[38;5;124m예측\u001b[39m\u001b[38;5;124m'\u001b[39m] \u001b[38;5;241m=\u001b[39m data[\u001b[38;5;124m'\u001b[39m\u001b[38;5;124m예측\u001b[39m\u001b[38;5;124m'\u001b[39m]\u001b[38;5;241m.\u001b[39mapply(lav_1)\n",
      "\u001b[0;31mNameError\u001b[0m: name 'classs' is not defined"
     ]
    }
   ],
   "source": [
    "#def lav_1(x):\n",
    "#    if x == 0:\n",
    "#        return '공포'\n",
    "#    if x == 1:\n",
    "#        return '놀람'\n",
    "#    if x == 2:\n",
    "#        return '분노'\n",
    "#    if x == 3:\n",
    "#        return '슬픔'\n",
    "#    if x == 4:\n",
    "#        return '중립'\n",
    "#    if x == 5:\n",
    "#        return '행복'\n",
    "#    if x == 6:\n",
    "#        return '혐오'\n",
    "\n"
   ]
  },
  {
   "cell_type": "code",
   "execution_count": null,
   "metadata": {},
   "outputs": [],
   "source": [
    "#import pickle\n",
    "#with open('model.pkl','wb') as pickle_file:\n",
    "#    pickle.dump(model, pickle_file)\n",
    "#model.save('saved_model/my_model')\n",
    "\n",
    "#with open('tokenizer.pickle', 'wb') as f:\n",
    "#    pickle.dump(token, f)"
   ]
  },
  {
   "cell_type": "code",
   "execution_count": null,
   "metadata": {},
   "outputs": [],
   "source": [
    "#model.save('saved_model/my_model')"
   ]
  },
  {
   "cell_type": "code",
   "execution_count": 79,
   "metadata": {},
   "outputs": [
    {
     "data": {
      "image/png": "[encoded data removed]",
      "text/plain": [
       "<Figure size 432x288 with 1 Axes>"
      ]
     },
     "metadata": {
      "needs_background": "light"
     },
     "output_type": "display_data"
    }
   ],
   "source": [
    "%matplotlib inline\n",
    "import matplotlib.pyplot as plt\n",
    "acc = history_1.history['accuracy']\n",
    "val_acc = history_1.history['val_accuracy']\n",
    "\n",
    "\n",
    "epochs = range(len(acc))\n",
    "\n",
    "plt.plot(epochs, acc, 'r', label='Training accuracy')\n",
    "plt.plot(epochs, val_acc, 'b', label='Validation accuracy')\n",
    "plt.title('Training and validation accuracy')\n",
    "plt.legend()\n",
    "plt.show()"
   ]
  },
  {
   "cell_type": "code",
   "execution_count": 80,
   "metadata": {
    "scrolled": true
   },
   "outputs": [
    {
     "data": {
      "image/png": "[encoded data removed]",
      "text/plain": [
       "<Figure size 432x288 with 1 Axes>"
      ]
     },
     "metadata": {
      "needs_background": "light"
     },
     "output_type": "display_data"
    }
   ],
   "source": [
    "import matplotlib.pyplot as plt\n",
    "acc = history_2.history['accuracy']\n",
    "val_acc = history_2.history['val_accuracy']\n",
    "\n",
    "\n",
    "epochs = range(len(acc))\n",
    "\n",
    "plt.plot(epochs, acc, 'r', label='Training accuracy')\n",
    "plt.plot(epochs, val_acc, 'b', label='Validation accuracy')\n",
    "plt.title('Training and validation accuracy')\n",
    "plt.legend()\n",
    "plt.show()"
   ]
  },
  {
   "cell_type": "code",
   "execution_count": 81,
   "metadata": {},
   "outputs": [
    {
     "data": {
      "image/png": "[encoded data removed]",
      "text/plain": [
       "<Figure size 432x288 with 1 Axes>"
      ]
     },
     "metadata": {
      "needs_background": "light"
     },
     "output_type": "display_data"
    }
   ],
   "source": [
    "import matplotlib.pyplot as plt\n",
    "acc = history_3.history['accuracy']\n",
    "val_acc = history_3.history['val_accuracy']\n",
    "\n",
    "\n",
    "epochs = range(len(acc))\n",
    "\n",
    "plt.plot(epochs, acc, 'r', label='Training accuracy')\n",
    "plt.plot(epochs, val_acc, 'b', label='Validation accuracy')\n",
    "plt.title('Training and validation accuracy')\n",
    "plt.legend()\n",
    "plt.show()"
   ]
  },
  {
   "cell_type": "code",
   "execution_count": 82,
   "metadata": {},
   "outputs": [
    {
     "data": {
      "image/png": "[encoded data removed]",
      "text/plain": [
       "<Figure size 432x288 with 1 Axes>"
      ]
     },
     "metadata": {
      "needs_background": "light"
     },
     "output_type": "display_data"
    }
   ],
   "source": [
    "import matplotlib.pyplot as plt\n",
    "acc = history_4.history['accuracy']\n",
    "val_acc = history_4.history['val_accuracy']\n",
    "\n",
    "\n",
    "epochs = range(len(acc))\n",
    "\n",
    "plt.plot(epochs, acc, 'r', label='Training accuracy')\n",
    "plt.plot(epochs, val_acc, 'b', label='Validation accuracy')\n",
    "plt.title('Training and validation accuracy')\n",
    "plt.legend()\n",
    "plt.show()"
   ]
  },
  {
   "cell_type": "code",
   "execution_count": 83,
   "metadata": {},
   "outputs": [
    {
     "data": {
      "image/png": "[encoded data removed]",
      "text/plain": [
       "<Figure size 432x288 with 1 Axes>"
      ]
     },
     "metadata": {
      "needs_background": "light"
     },
     "output_type": "display_data"
    }
   ],
   "source": [
    "import matplotlib.pyplot as plt\n",
    "acc = history_5.history['accuracy']\n",
    "val_acc = history_5.history['val_accuracy']\n",
    "\n",
    "\n",
    "epochs = range(len(acc))\n",
    "\n",
    "plt.plot(epochs, acc, 'r', label='Training accuracy')\n",
    "plt.plot(epochs, val_acc, 'b', label='Validation accuracy')\n",
    "plt.title('Training and validation accuracy')\n",
    "plt.legend()\n",
    "plt.show()"
   ]
  },
  {
   "cell_type": "code",
   "execution_count": 84,
   "metadata": {},
   "outputs": [
    {
     "data": {
      "image/png": "[encoded data removed]",
      "text/plain": [
       "<Figure size 432x288 with 1 Axes>"
      ]
     },
     "metadata": {
      "needs_background": "light"
     },
     "output_type": "display_data"
    }
   ],
   "source": [
    "import matplotlib.pyplot as plt\n",
    "acc = history_6.history['accuracy']\n",
    "val_acc = history_6.history['val_accuracy']\n",
    "\n",
    "\n",
    "epochs = range(len(acc))\n",
    "\n",
    "plt.plot(epochs, acc, 'r', label='Training accuracy')\n",
    "plt.plot(epochs, val_acc, 'b', label='Validation accuracy')\n",
    "plt.title('Training and validation accuracy')\n",
    "plt.legend()\n",
    "plt.show()"
   ]
  },
  {
   "cell_type": "code",
   "execution_count": 85,
   "metadata": {},
   "outputs": [
    {
     "data": {
      "image/png": "[encoded data removed]",
      "text/plain": [
       "<Figure size 432x288 with 1 Axes>"
      ]
     },
     "metadata": {
      "needs_background": "light"
     },
     "output_type": "display_data"
    }
   ],
   "source": [
    "import matplotlib.pyplot as plt\n",
    "acc = history_7.history['accuracy']\n",
    "val_acc = history_7.history['val_accuracy']\n",
    "\n",
    "\n",
    "epochs = range(len(acc))\n",
    "\n",
    "plt.plot(epochs, acc, 'r', label='Training accuracy')\n",
    "plt.plot(epochs, val_acc, 'b', label='Validation accuracy')\n",
    "plt.title('Training and validation accuracy')\n",
    "plt.legend()\n",
    "plt.show()"
   ]
  }
 ],
 "metadata": {
  "kernelspec": {
   "display_name": "Python 3 (ipykernel)",
   "language": "python",
   "name": "python3"
  },
  "language_info": {
   "codemirror_mode": {
    "name": "ipython",
    "version": 3
   },
   "file_extension": ".py",
   "mimetype": "text/x-python",
   "name": "python",
   "nbconvert_exporter": "python",
   "pygments_lexer": "ipython3",
   "version": "3.8.13"
  },
  "vscode": {
   "interpreter": {
    "hash": "fc546dcb9973d982b4b4dae6662f4996ec0618c166151e42343c5687d53144d9"
   }
  }
 },
 "nbformat": 4,
 "nbformat_minor": 2
}
